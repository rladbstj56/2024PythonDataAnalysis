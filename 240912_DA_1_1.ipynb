{
  "nbformat": 4,
  "nbformat_minor": 0,
  "metadata": {
    "colab": {
      "provenance": [],
      "authorship_tag": "ABX9TyO8EU/YbJF7qfDT+V8vSX1N",
      "include_colab_link": true
    },
    "kernelspec": {
      "name": "python3",
      "display_name": "Python 3"
    },
    "language_info": {
      "name": "python"
    }
  },
  "cells": [
    {
      "cell_type": "markdown",
      "metadata": {
        "id": "view-in-github",
        "colab_type": "text"
      },
      "source": [
        "<a href=\"https://colab.research.google.com/github/rladbstj56/2024PythonDataAnalysis/blob/main/240912_DA_1_1.ipynb\" target=\"_parent\"><img src=\"https://colab.research.google.com/assets/colab-badge.svg\" alt=\"Open In Colab\"/></a>"
      ]
    },
    {
      "cell_type": "code",
      "source": [
        "cel = [-20, -10, 0, 10, 20, 30, 40, 50]\n",
        "\n",
        "fah = list(map(lambda x:(x*9/5)+32, cel))\n",
        "print(fah)\n",
        "print(cel)"
      ],
      "metadata": {
        "colab": {
          "base_uri": "https://localhost:8080/"
        },
        "id": "EbRF-XIKmoe8",
        "outputId": "2d4a9c40-7453-45c8-b1b9-e7f0f67e2202"
      },
      "execution_count": null,
      "outputs": [
        {
          "output_type": "stream",
          "name": "stdout",
          "text": [
            "[-4.0, 14.0, 32.0, 50.0, 68.0, 86.0, 104.0, 122.0]\n",
            "[-20, -10, 0, 10, 20, 30, 40, 50]\n"
          ]
        }
      ]
    }
  ]
}
{
  "nbformat": 4,
  "nbformat_minor": 0,
  "metadata": {
    "colab": {
      "provenance": [],
      "mount_file_id": "1Oz5map68woh3N2PVPAZ6ZD-_lAl_xhzf",
      "authorship_tag": "ABX9TyPsKzIyD5pDR8hRmZK+SrSV",
      "include_colab_link": true
    },
    "kernelspec": {
      "name": "python3",
      "display_name": "Python 3"
    },
    "language_info": {
      "name": "python"
    }
  },
  "cells": [
    {
      "cell_type": "markdown",
      "metadata": {
        "id": "view-in-github",
        "colab_type": "text"
      },
      "source": [
        "<a href=\"https://colab.research.google.com/github/rladbstj56/2024PythonDataAnalysis/blob/main/241008%EA%B3%BC%EC%A0%9C1.ipynb\" target=\"_parent\"><img src=\"https://colab.research.google.com/assets/colab-badge.svg\" alt=\"Open In Colab\"/></a>"
      ]
    },
    {
      "cell_type": "code",
      "execution_count": null,
      "metadata": {
        "id": "m06eoe_mz9eE"
      },
      "outputs": [],
      "source": [
        "# 파일 주소 : /content/drive/MyDrive/pythondataanalysis/과제1/hw1_data.csv"
      ]
    },
    {
      "cell_type": "code",
      "source": [
        "import pandas as pd\n",
        "import numpy as np\n",
        "\n",
        "# 교수님이 올려주신 encoding 방법 한번 찾아보기\n",
        "# 한글 있을때 처리법\n",
        "# df = pd.read_csv('/content/drive/MyDrive/pythondataanalysis/과제1/hw1_data.csv', encoding='ISO-8859-1')\n",
        "df = pd.read_csv('/content/drive/MyDrive/pythondataanalysis/과제1/hw1_data.csv', encoding='cp949')\n",
        "\n",
        "\n",
        "# 1. 데이터프레임 상위 10 개와 하위 1 개를 출력하고 각 열의 자료형을 출력하시오\n",
        "\n",
        "print(\"상위 10개\\n\",df.head(10),\"\\n\")\n",
        "\n",
        "print(\"하위 1개\\n\",df.tail(1),\"\\n\")\n",
        "\n",
        "print(df.info()) # 각 열의 자료형\n"
      ],
      "metadata": {
        "colab": {
          "base_uri": "https://localhost:8080/"
        },
        "id": "41drWfle0mM8",
        "outputId": "0f52abbc-1017-4bdd-9700-f8a27aee7e46"
      },
      "execution_count": 15,
      "outputs": [
        {
          "output_type": "stream",
          "name": "stdout",
          "text": [
            "상위 10개\n",
            "    Rank                      Name Net Worth Age        Country  \\\n",
            "0     1                 Elon Musk    $219 B  50  United States   \n",
            "1     2                Jeff Bezos    $171 B  58  United States   \n",
            "2     3  Bernard Arnault & family    $158 B  73         France   \n",
            "3     4                Bill Gates    $129 B  66  United States   \n",
            "4     5            Warren Buffett    $118 B  91  United States   \n",
            "5     6                Larry Page    $111 B  49  United States   \n",
            "6     7               Sergey Brin    $107 B  48  United States   \n",
            "7     8             Larry Ellison    $106 B  77  United States   \n",
            "8     9             Steve Ballmer   $91.4 B  66  United States   \n",
            "9    10             Mukesh Ambani   $90.7 B  64          India   \n",
            "\n",
            "               Source               Industry  \n",
            "0       Tesla, SpaceX             Automotive  \n",
            "1              Amazon             Technology  \n",
            "2                LVMH       Fashion & Retail  \n",
            "3           Microsoft             Technology  \n",
            "4  Berkshire Hathaway  Finance & Investments  \n",
            "5              Google             Technology  \n",
            "6              Google             Technology  \n",
            "7            software             Technology  \n",
            "8           Microsoft             Technology  \n",
            "9         diversified            Diversified   \n",
            "\n",
            "하위 1개\n",
            "       Rank              Name Net Worth Age  Country                Source  \\\n",
            "2508  2509  Ihor Kolomoyskyy      $1 B  59  Ukraine  banking, investments   \n",
            "\n",
            "         Industry  \n",
            "2508  Diversified   \n",
            "\n",
            "<class 'pandas.core.frame.DataFrame'>\n",
            "RangeIndex: 2509 entries, 0 to 2508\n",
            "Data columns (total 7 columns):\n",
            " #   Column     Non-Null Count  Dtype \n",
            "---  ------     --------------  ----- \n",
            " 0   Rank       2509 non-null   int64 \n",
            " 1   Name       2509 non-null   object\n",
            " 2   Net Worth  2509 non-null   object\n",
            " 3   Age        2435 non-null   object\n",
            " 4   Country    2509 non-null   object\n",
            " 5   Source     2509 non-null   object\n",
            " 6   Industry   2508 non-null   object\n",
            "dtypes: int64(1), object(6)\n",
            "memory usage: 137.3+ KB\n",
            "None\n"
          ]
        }
      ]
    },
    {
      "cell_type": "code",
      "source": [
        "# 2. 데이터셋의 결측치를 출력한 후 해당 행을 제거하시오.\n",
        "\n",
        "\n",
        "print(pd.isna(df)) # 결측치 출력\n",
        "pd.isna(df).sum() # 결측치 몇개인지 확인"
      ],
      "metadata": {
        "colab": {
          "base_uri": "https://localhost:8080/",
          "height": 565
        },
        "id": "QNmaKoBDCH36",
        "outputId": "32728afd-0da0-47ac-9b5b-07385eb912db"
      },
      "execution_count": 16,
      "outputs": [
        {
          "output_type": "stream",
          "name": "stdout",
          "text": [
            "       Rank   Name  Net Worth    Age  Country  Source  Industry\n",
            "0     False  False      False  False    False   False     False\n",
            "1     False  False      False  False    False   False     False\n",
            "2     False  False      False  False    False   False     False\n",
            "3     False  False      False  False    False   False     False\n",
            "4     False  False      False  False    False   False     False\n",
            "...     ...    ...        ...    ...      ...     ...       ...\n",
            "2504  False  False      False  False    False   False     False\n",
            "2505  False  False      False  False    False   False     False\n",
            "2506  False  False      False  False    False   False     False\n",
            "2507  False  False      False  False    False   False     False\n",
            "2508  False  False      False  False    False   False     False\n",
            "\n",
            "[2509 rows x 7 columns]\n"
          ]
        },
        {
          "output_type": "execute_result",
          "data": {
            "text/plain": [
              "Rank          0\n",
              "Name          0\n",
              "Net Worth     0\n",
              "Age          74\n",
              "Country       0\n",
              "Source        0\n",
              "Industry      1\n",
              "dtype: int64"
            ],
            "text/html": [
              "<div>\n",
              "<style scoped>\n",
              "    .dataframe tbody tr th:only-of-type {\n",
              "        vertical-align: middle;\n",
              "    }\n",
              "\n",
              "    .dataframe tbody tr th {\n",
              "        vertical-align: top;\n",
              "    }\n",
              "\n",
              "    .dataframe thead th {\n",
              "        text-align: right;\n",
              "    }\n",
              "</style>\n",
              "<table border=\"1\" class=\"dataframe\">\n",
              "  <thead>\n",
              "    <tr style=\"text-align: right;\">\n",
              "      <th></th>\n",
              "      <th>0</th>\n",
              "    </tr>\n",
              "  </thead>\n",
              "  <tbody>\n",
              "    <tr>\n",
              "      <th>Rank</th>\n",
              "      <td>0</td>\n",
              "    </tr>\n",
              "    <tr>\n",
              "      <th>Name</th>\n",
              "      <td>0</td>\n",
              "    </tr>\n",
              "    <tr>\n",
              "      <th>Net Worth</th>\n",
              "      <td>0</td>\n",
              "    </tr>\n",
              "    <tr>\n",
              "      <th>Age</th>\n",
              "      <td>74</td>\n",
              "    </tr>\n",
              "    <tr>\n",
              "      <th>Country</th>\n",
              "      <td>0</td>\n",
              "    </tr>\n",
              "    <tr>\n",
              "      <th>Source</th>\n",
              "      <td>0</td>\n",
              "    </tr>\n",
              "    <tr>\n",
              "      <th>Industry</th>\n",
              "      <td>1</td>\n",
              "    </tr>\n",
              "  </tbody>\n",
              "</table>\n",
              "</div><br><label><b>dtype:</b> int64</label>"
            ]
          },
          "metadata": {},
          "execution_count": 16
        }
      ]
    },
    {
      "cell_type": "code",
      "source": [
        "df = df.dropna(subset=['Age','Industry'])\n",
        "pd.isna(df).sum()"
      ],
      "metadata": {
        "colab": {
          "base_uri": "https://localhost:8080/",
          "height": 303
        },
        "id": "WWarNVFZCqFd",
        "outputId": "ca4ee510-acc1-4bfe-d9c1-047618d78ec6"
      },
      "execution_count": 17,
      "outputs": [
        {
          "output_type": "execute_result",
          "data": {
            "text/plain": [
              "Rank         0\n",
              "Name         0\n",
              "Net Worth    0\n",
              "Age          0\n",
              "Country      0\n",
              "Source       0\n",
              "Industry     0\n",
              "dtype: int64"
            ],
            "text/html": [
              "<div>\n",
              "<style scoped>\n",
              "    .dataframe tbody tr th:only-of-type {\n",
              "        vertical-align: middle;\n",
              "    }\n",
              "\n",
              "    .dataframe tbody tr th {\n",
              "        vertical-align: top;\n",
              "    }\n",
              "\n",
              "    .dataframe thead th {\n",
              "        text-align: right;\n",
              "    }\n",
              "</style>\n",
              "<table border=\"1\" class=\"dataframe\">\n",
              "  <thead>\n",
              "    <tr style=\"text-align: right;\">\n",
              "      <th></th>\n",
              "      <th>0</th>\n",
              "    </tr>\n",
              "  </thead>\n",
              "  <tbody>\n",
              "    <tr>\n",
              "      <th>Rank</th>\n",
              "      <td>0</td>\n",
              "    </tr>\n",
              "    <tr>\n",
              "      <th>Name</th>\n",
              "      <td>0</td>\n",
              "    </tr>\n",
              "    <tr>\n",
              "      <th>Net Worth</th>\n",
              "      <td>0</td>\n",
              "    </tr>\n",
              "    <tr>\n",
              "      <th>Age</th>\n",
              "      <td>0</td>\n",
              "    </tr>\n",
              "    <tr>\n",
              "      <th>Country</th>\n",
              "      <td>0</td>\n",
              "    </tr>\n",
              "    <tr>\n",
              "      <th>Source</th>\n",
              "      <td>0</td>\n",
              "    </tr>\n",
              "    <tr>\n",
              "      <th>Industry</th>\n",
              "      <td>0</td>\n",
              "    </tr>\n",
              "  </tbody>\n",
              "</table>\n",
              "</div><br><label><b>dtype:</b> int64</label>"
            ]
          },
          "metadata": {},
          "execution_count": 17
        }
      ]
    },
    {
      "cell_type": "code",
      "source": [
        "df.info()"
      ],
      "metadata": {
        "colab": {
          "base_uri": "https://localhost:8080/"
        },
        "id": "Q4Q_J2BcC-ZM",
        "outputId": "b4adb5aa-fc8f-48d0-fd0a-3b836484897c"
      },
      "execution_count": 18,
      "outputs": [
        {
          "output_type": "stream",
          "name": "stdout",
          "text": [
            "<class 'pandas.core.frame.DataFrame'>\n",
            "Index: 2434 entries, 0 to 2508\n",
            "Data columns (total 7 columns):\n",
            " #   Column     Non-Null Count  Dtype \n",
            "---  ------     --------------  ----- \n",
            " 0   Rank       2434 non-null   int64 \n",
            " 1   Name       2434 non-null   object\n",
            " 2   Net Worth  2434 non-null   object\n",
            " 3   Age        2434 non-null   object\n",
            " 4   Country    2434 non-null   object\n",
            " 5   Source     2434 non-null   object\n",
            " 6   Industry   2434 non-null   object\n",
            "dtypes: int64(1), object(6)\n",
            "memory usage: 152.1+ KB\n"
          ]
        }
      ]
    },
    {
      "cell_type": "code",
      "source": [
        "# 3. ‘Net worth’ 열의 데이터를 다음과 같이 정규화한 후 숫자로 자료형을 변환한 후 출력하시오.\n",
        "# ($219 B → 219)\n",
        "\n",
        "df.info()\n"
      ],
      "metadata": {
        "colab": {
          "base_uri": "https://localhost:8080/"
        },
        "id": "j_H2Ye3mJ1OV",
        "outputId": "98dae1ff-fa8b-421a-d280-0a0fef7d16cd"
      },
      "execution_count": 19,
      "outputs": [
        {
          "output_type": "stream",
          "name": "stdout",
          "text": [
            "<class 'pandas.core.frame.DataFrame'>\n",
            "Index: 2434 entries, 0 to 2508\n",
            "Data columns (total 7 columns):\n",
            " #   Column     Non-Null Count  Dtype \n",
            "---  ------     --------------  ----- \n",
            " 0   Rank       2434 non-null   int64 \n",
            " 1   Name       2434 non-null   object\n",
            " 2   Net Worth  2434 non-null   object\n",
            " 3   Age        2434 non-null   object\n",
            " 4   Country    2434 non-null   object\n",
            " 5   Source     2434 non-null   object\n",
            " 6   Industry   2434 non-null   object\n",
            "dtypes: int64(1), object(6)\n",
            "memory usage: 152.1+ KB\n"
          ]
        }
      ]
    },
    {
      "cell_type": "code",
      "source": [
        "import re # re 모듈을 사용하기 위해 import\n",
        "\n",
        "# 숫자 외의 문자나 특수기호를 클렌징하는 함수\n",
        "def cleansing(text):\n",
        "  # re.sub(pattern,replacement,string)\n",
        "  # pattern : 정규식을 사용하여 $ 또는 B 문자를 찾는 패턴\n",
        "  # replacement : 빈 문자열 '' 을 넣어서 앞의 패턴을 삭제\n",
        "  # string : $와 B의 삭제가 필요한 원본 문자열\n",
        "  return re.sub(r'\\$|B','',text)\n",
        "\n",
        "\n",
        "# apply 를 사용하여 데이터프레임의 특정 열에 클렌징 적용\n",
        "df['Net Worth'] = df['Net Worth'].apply(cleansing)\n",
        "\n",
        "# 특정 열을 float형으로 바로 변환\n",
        "df['Net Worth'] = df['Net Worth'].astype(float)\n",
        "\n",
        "print(df)\n",
        "\n",
        "df.info()\n"
      ],
      "metadata": {
        "colab": {
          "base_uri": "https://localhost:8080/"
        },
        "id": "SY8ggSIpDNDi",
        "outputId": "b2f6166b-e3e6-469f-aeab-ea32871da979"
      },
      "execution_count": 20,
      "outputs": [
        {
          "output_type": "stream",
          "name": "stdout",
          "text": [
            "      Rank                          Name  Net Worth Age        Country  \\\n",
            "0        1                     Elon Musk      219.0  50  United States   \n",
            "1        2                    Jeff Bezos      171.0  58  United States   \n",
            "2        3      Bernard Arnault & family      158.0  73         France   \n",
            "3        4                    Bill Gates      129.0  66  United States   \n",
            "4        5                Warren Buffett      118.0  91  United States   \n",
            "...    ...                           ...        ...  ..            ...   \n",
            "2504  2505                  Guo Jiangang        1.0  55          China   \n",
            "2505  2506  Vera Rechulski Santo Domingo        1.0  73         Brazil   \n",
            "2506  2507                  Mike Speiser        1.0  51  United States   \n",
            "2507  2508                   Yao Liangbo        1.0  53          China   \n",
            "2508  2509              Ihor Kolomoyskyy        1.0  59        Ukraine   \n",
            "\n",
            "                    Source               Industry  \n",
            "0            Tesla, SpaceX             Automotive  \n",
            "1                   Amazon             Technology  \n",
            "2                     LVMH       Fashion & Retail  \n",
            "3                Microsoft             Technology  \n",
            "4       Berkshire Hathaway  Finance & Investments  \n",
            "...                    ...                    ...  \n",
            "2504  household appliances          Manufacturing  \n",
            "2505                  beer        Food & Beverage  \n",
            "2506              software             Technology  \n",
            "2507   furniture retailing       Fashion & Retail  \n",
            "2508  banking, investments            Diversified  \n",
            "\n",
            "[2434 rows x 7 columns]\n",
            "<class 'pandas.core.frame.DataFrame'>\n",
            "Index: 2434 entries, 0 to 2508\n",
            "Data columns (total 7 columns):\n",
            " #   Column     Non-Null Count  Dtype  \n",
            "---  ------     --------------  -----  \n",
            " 0   Rank       2434 non-null   int64  \n",
            " 1   Name       2434 non-null   object \n",
            " 2   Net Worth  2434 non-null   float64\n",
            " 3   Age        2434 non-null   object \n",
            " 4   Country    2434 non-null   object \n",
            " 5   Source     2434 non-null   object \n",
            " 6   Industry   2434 non-null   object \n",
            "dtypes: float64(1), int64(1), object(5)\n",
            "memory usage: 152.1+ KB\n"
          ]
        }
      ]
    },
    {
      "cell_type": "code",
      "source": [
        "# 4. 다음 열의 고유값을 출력하시오. (‘country’, ‘industry’)\n",
        "\n",
        "print(df['Country'].unique(),\"\\n\")\n",
        "print(df['Industry'].unique())"
      ],
      "metadata": {
        "colab": {
          "base_uri": "https://localhost:8080/"
        },
        "id": "VcbgxEp8KjRl",
        "outputId": "fb661faa-1604-4b6c-e171-67cd22db1240"
      },
      "execution_count": 21,
      "outputs": [
        {
          "output_type": "stream",
          "name": "stdout",
          "text": [
            "['United States' 'France' 'India' 'China' 'Canada' 'Spain' 'Hong Kong'\n",
            " 'Germany' 'Italy' 'Mexico' 'Australia' 'Austria' 'Japan' 'Indonesia'\n",
            " 'Switzerland' 'Chile' 'Russia' 'Singapore' 'Sweden' 'Czechia'\n",
            " 'United Kingdom' 'Brazil' 'Netherlands' 'United Arab Emirates' 'Ireland'\n",
            " 'Nigeria' 'Denmark' 'Thailand' 'Cyprus' 'Taiwan' 'Malaysia' 'Israel'\n",
            " 'Monaco' 'Colombia' 'New Zealand' 'South Korea' 'Belgium' 'South Africa'\n",
            " 'Philippines' 'Egypt' 'Greece' 'Norway' 'Poland' 'Eswatini (Swaziland)'\n",
            " 'Peru' 'Algeria' 'Kazakhstan' 'Georgia' 'Turkey' 'Portugal' 'Finland'\n",
            " 'Ukraine' 'Belize' 'Venezuela' 'Vietnam' 'Lebanon' 'Romania' 'Argentina'\n",
            " 'Guernsey' 'Oman' 'Iceland' 'Liechtenstein' 'Qatar' 'Bulgaria' 'Morocco'\n",
            " 'Macau' 'Barbados' 'Slovakia' 'St. Kitts and Nevis' 'Tanzania' 'Uruguay'\n",
            " 'Nepal' 'Hungary' 'Estonia'] \n",
            "\n",
            "['Automotive' 'Technology' 'Fashion & Retail' 'Finance & Investments'\n",
            " 'Diversified' 'Media & Entertainment' 'Food & Beverage' 'Logistics'\n",
            " 'Real Estate' 'Metals & Mining' 'Manufacturing' 'Gambling & Casinos'\n",
            " 'Healthcare' 'Telecom' 'Energy' 'Construction & Engineering' 'Service'\n",
            " 'Sports']\n"
          ]
        }
      ]
    },
    {
      "cell_type": "code",
      "source": [
        "# 5. ‘Net worth’ 열의 상위 1000 개 행에 대한 평균과 중간값을 구하시오.\n",
        "\n",
        "\n",
        "# 범위 내의 데이터 선택\n",
        "filtered = df['Net Worth'][0:1000] # 0번째 인덱스부터 999 인덱스까지\n",
        "\n",
        "NW_mean = filtered.mean()\n",
        "NW_median = filtered.median()\n",
        "\n",
        "print(NW_mean)\n",
        "print(NW_median)\n"
      ],
      "metadata": {
        "colab": {
          "base_uri": "https://localhost:8080/"
        },
        "id": "NIuuyY7QLb8e",
        "outputId": "bafd7d1d-008e-4f73-d38d-616d79625965"
      },
      "execution_count": 22,
      "outputs": [
        {
          "output_type": "stream",
          "name": "stdout",
          "text": [
            "9.301150000000002\n",
            "5.1\n"
          ]
        }
      ]
    },
    {
      "cell_type": "code",
      "source": [
        "# 6. ‘Age’ 열의 중간값을 구하시오. (전체 행)\n",
        "\n",
        "# 중간값 구하려면 먼저 데이터형을 int형으로 전환해야함\n",
        "df['Age'] = df['Age'].astype(int)\n",
        "\n",
        "age_median = df['Age'].median()\n",
        "print(age_median)"
      ],
      "metadata": {
        "colab": {
          "base_uri": "https://localhost:8080/"
        },
        "id": "qGKznIsiMaj_",
        "outputId": "0037da77-1a3a-459c-f4a4-be804dbd5657"
      },
      "execution_count": 23,
      "outputs": [
        {
          "output_type": "stream",
          "name": "stdout",
          "text": [
            "64.0\n"
          ]
        }
      ]
    },
    {
      "cell_type": "code",
      "source": [
        "# 7. ‘Country’ 과 ‘source’ 열의 빈도수를 각각 구하시오.\n",
        "\n",
        "cnt_country = df['Country'].value_counts()\n",
        "cnt_source = df['Source'].value_counts()\n",
        "\n",
        "print(cnt_country,'\\n')\n",
        "print(cnt_source)"
      ],
      "metadata": {
        "colab": {
          "base_uri": "https://localhost:8080/"
        },
        "id": "AuedW0Q3MuRk",
        "outputId": "2980c36e-a532-4e0d-d6f5-a160da4e24e8"
      },
      "execution_count": 24,
      "outputs": [
        {
          "output_type": "stream",
          "name": "stdout",
          "text": [
            "Country\n",
            "United States           686\n",
            "China                   486\n",
            "India                   153\n",
            "Germany                 103\n",
            "Russia                   74\n",
            "                       ... \n",
            "Venezuela                 1\n",
            "Belize                    1\n",
            "Portugal                  1\n",
            "Eswatini (Swaziland)      1\n",
            "Estonia                   1\n",
            "Name: count, Length: 74, dtype: int64 \n",
            "\n",
            "Source\n",
            "real estate           137\n",
            "pharmaceuticals        86\n",
            "investments            86\n",
            "diversified            79\n",
            "software               65\n",
            "                     ... \n",
            "hair care products      1\n",
            "winter jackets          1\n",
            "Formula One             1\n",
            "media, tech             1\n",
            "pharma retailing        1\n",
            "Name: count, Length: 851, dtype: int64\n"
          ]
        }
      ]
    },
    {
      "cell_type": "code",
      "source": [
        "# 8. ‘Age’ 열의 히스토그램을 그리시오.\n",
        "\n",
        "import matplotlib.pyplot as plt\n",
        "\n",
        "df.describe() # 최소 최대값 확인\n"
      ],
      "metadata": {
        "colab": {
          "base_uri": "https://localhost:8080/",
          "height": 300
        },
        "id": "OrpzTQVsNbWi",
        "outputId": "ef743662-3efa-4d16-8340-87d46622ee7e"
      },
      "execution_count": 25,
      "outputs": [
        {
          "output_type": "execute_result",
          "data": {
            "text/plain": [
              "              Rank    Net Worth          Age\n",
              "count  2434.000000  2434.000000  2434.000000\n",
              "mean   1248.217338     4.827383    64.317173\n",
              "std     725.231576    10.823729    13.360184\n",
              "min       1.000000     1.000000    19.000000\n",
              "25%     619.250000     1.500000    55.000000\n",
              "50%    1248.500000     2.400000    64.000000\n",
              "75%    1872.750000     4.400000    74.000000\n",
              "max    2509.000000   219.000000   100.000000"
            ],
            "text/html": [
              "\n",
              "  <div id=\"df-389ddf1e-cab8-47ea-abd6-4e270ce82875\" class=\"colab-df-container\">\n",
              "    <div>\n",
              "<style scoped>\n",
              "    .dataframe tbody tr th:only-of-type {\n",
              "        vertical-align: middle;\n",
              "    }\n",
              "\n",
              "    .dataframe tbody tr th {\n",
              "        vertical-align: top;\n",
              "    }\n",
              "\n",
              "    .dataframe thead th {\n",
              "        text-align: right;\n",
              "    }\n",
              "</style>\n",
              "<table border=\"1\" class=\"dataframe\">\n",
              "  <thead>\n",
              "    <tr style=\"text-align: right;\">\n",
              "      <th></th>\n",
              "      <th>Rank</th>\n",
              "      <th>Net Worth</th>\n",
              "      <th>Age</th>\n",
              "    </tr>\n",
              "  </thead>\n",
              "  <tbody>\n",
              "    <tr>\n",
              "      <th>count</th>\n",
              "      <td>2434.000000</td>\n",
              "      <td>2434.000000</td>\n",
              "      <td>2434.000000</td>\n",
              "    </tr>\n",
              "    <tr>\n",
              "      <th>mean</th>\n",
              "      <td>1248.217338</td>\n",
              "      <td>4.827383</td>\n",
              "      <td>64.317173</td>\n",
              "    </tr>\n",
              "    <tr>\n",
              "      <th>std</th>\n",
              "      <td>725.231576</td>\n",
              "      <td>10.823729</td>\n",
              "      <td>13.360184</td>\n",
              "    </tr>\n",
              "    <tr>\n",
              "      <th>min</th>\n",
              "      <td>1.000000</td>\n",
              "      <td>1.000000</td>\n",
              "      <td>19.000000</td>\n",
              "    </tr>\n",
              "    <tr>\n",
              "      <th>25%</th>\n",
              "      <td>619.250000</td>\n",
              "      <td>1.500000</td>\n",
              "      <td>55.000000</td>\n",
              "    </tr>\n",
              "    <tr>\n",
              "      <th>50%</th>\n",
              "      <td>1248.500000</td>\n",
              "      <td>2.400000</td>\n",
              "      <td>64.000000</td>\n",
              "    </tr>\n",
              "    <tr>\n",
              "      <th>75%</th>\n",
              "      <td>1872.750000</td>\n",
              "      <td>4.400000</td>\n",
              "      <td>74.000000</td>\n",
              "    </tr>\n",
              "    <tr>\n",
              "      <th>max</th>\n",
              "      <td>2509.000000</td>\n",
              "      <td>219.000000</td>\n",
              "      <td>100.000000</td>\n",
              "    </tr>\n",
              "  </tbody>\n",
              "</table>\n",
              "</div>\n",
              "    <div class=\"colab-df-buttons\">\n",
              "\n",
              "  <div class=\"colab-df-container\">\n",
              "    <button class=\"colab-df-convert\" onclick=\"convertToInteractive('df-389ddf1e-cab8-47ea-abd6-4e270ce82875')\"\n",
              "            title=\"Convert this dataframe to an interactive table.\"\n",
              "            style=\"display:none;\">\n",
              "\n",
              "  <svg xmlns=\"http://www.w3.org/2000/svg\" height=\"24px\" viewBox=\"0 -960 960 960\">\n",
              "    <path d=\"M120-120v-720h720v720H120Zm60-500h600v-160H180v160Zm220 220h160v-160H400v160Zm0 220h160v-160H400v160ZM180-400h160v-160H180v160Zm440 0h160v-160H620v160ZM180-180h160v-160H180v160Zm440 0h160v-160H620v160Z\"/>\n",
              "  </svg>\n",
              "    </button>\n",
              "\n",
              "  <style>\n",
              "    .colab-df-container {\n",
              "      display:flex;\n",
              "      gap: 12px;\n",
              "    }\n",
              "\n",
              "    .colab-df-convert {\n",
              "      background-color: #E8F0FE;\n",
              "      border: none;\n",
              "      border-radius: 50%;\n",
              "      cursor: pointer;\n",
              "      display: none;\n",
              "      fill: #1967D2;\n",
              "      height: 32px;\n",
              "      padding: 0 0 0 0;\n",
              "      width: 32px;\n",
              "    }\n",
              "\n",
              "    .colab-df-convert:hover {\n",
              "      background-color: #E2EBFA;\n",
              "      box-shadow: 0px 1px 2px rgba(60, 64, 67, 0.3), 0px 1px 3px 1px rgba(60, 64, 67, 0.15);\n",
              "      fill: #174EA6;\n",
              "    }\n",
              "\n",
              "    .colab-df-buttons div {\n",
              "      margin-bottom: 4px;\n",
              "    }\n",
              "\n",
              "    [theme=dark] .colab-df-convert {\n",
              "      background-color: #3B4455;\n",
              "      fill: #D2E3FC;\n",
              "    }\n",
              "\n",
              "    [theme=dark] .colab-df-convert:hover {\n",
              "      background-color: #434B5C;\n",
              "      box-shadow: 0px 1px 3px 1px rgba(0, 0, 0, 0.15);\n",
              "      filter: drop-shadow(0px 1px 2px rgba(0, 0, 0, 0.3));\n",
              "      fill: #FFFFFF;\n",
              "    }\n",
              "  </style>\n",
              "\n",
              "    <script>\n",
              "      const buttonEl =\n",
              "        document.querySelector('#df-389ddf1e-cab8-47ea-abd6-4e270ce82875 button.colab-df-convert');\n",
              "      buttonEl.style.display =\n",
              "        google.colab.kernel.accessAllowed ? 'block' : 'none';\n",
              "\n",
              "      async function convertToInteractive(key) {\n",
              "        const element = document.querySelector('#df-389ddf1e-cab8-47ea-abd6-4e270ce82875');\n",
              "        const dataTable =\n",
              "          await google.colab.kernel.invokeFunction('convertToInteractive',\n",
              "                                                    [key], {});\n",
              "        if (!dataTable) return;\n",
              "\n",
              "        const docLinkHtml = 'Like what you see? Visit the ' +\n",
              "          '<a target=\"_blank\" href=https://colab.research.google.com/notebooks/data_table.ipynb>data table notebook</a>'\n",
              "          + ' to learn more about interactive tables.';\n",
              "        element.innerHTML = '';\n",
              "        dataTable['output_type'] = 'display_data';\n",
              "        await google.colab.output.renderOutput(dataTable, element);\n",
              "        const docLink = document.createElement('div');\n",
              "        docLink.innerHTML = docLinkHtml;\n",
              "        element.appendChild(docLink);\n",
              "      }\n",
              "    </script>\n",
              "  </div>\n",
              "\n",
              "\n",
              "<div id=\"df-d8dca025-840f-4813-8298-4a3c47ceb1f4\">\n",
              "  <button class=\"colab-df-quickchart\" onclick=\"quickchart('df-d8dca025-840f-4813-8298-4a3c47ceb1f4')\"\n",
              "            title=\"Suggest charts\"\n",
              "            style=\"display:none;\">\n",
              "\n",
              "<svg xmlns=\"http://www.w3.org/2000/svg\" height=\"24px\"viewBox=\"0 0 24 24\"\n",
              "     width=\"24px\">\n",
              "    <g>\n",
              "        <path d=\"M19 3H5c-1.1 0-2 .9-2 2v14c0 1.1.9 2 2 2h14c1.1 0 2-.9 2-2V5c0-1.1-.9-2-2-2zM9 17H7v-7h2v7zm4 0h-2V7h2v10zm4 0h-2v-4h2v4z\"/>\n",
              "    </g>\n",
              "</svg>\n",
              "  </button>\n",
              "\n",
              "<style>\n",
              "  .colab-df-quickchart {\n",
              "      --bg-color: #E8F0FE;\n",
              "      --fill-color: #1967D2;\n",
              "      --hover-bg-color: #E2EBFA;\n",
              "      --hover-fill-color: #174EA6;\n",
              "      --disabled-fill-color: #AAA;\n",
              "      --disabled-bg-color: #DDD;\n",
              "  }\n",
              "\n",
              "  [theme=dark] .colab-df-quickchart {\n",
              "      --bg-color: #3B4455;\n",
              "      --fill-color: #D2E3FC;\n",
              "      --hover-bg-color: #434B5C;\n",
              "      --hover-fill-color: #FFFFFF;\n",
              "      --disabled-bg-color: #3B4455;\n",
              "      --disabled-fill-color: #666;\n",
              "  }\n",
              "\n",
              "  .colab-df-quickchart {\n",
              "    background-color: var(--bg-color);\n",
              "    border: none;\n",
              "    border-radius: 50%;\n",
              "    cursor: pointer;\n",
              "    display: none;\n",
              "    fill: var(--fill-color);\n",
              "    height: 32px;\n",
              "    padding: 0;\n",
              "    width: 32px;\n",
              "  }\n",
              "\n",
              "  .colab-df-quickchart:hover {\n",
              "    background-color: var(--hover-bg-color);\n",
              "    box-shadow: 0 1px 2px rgba(60, 64, 67, 0.3), 0 1px 3px 1px rgba(60, 64, 67, 0.15);\n",
              "    fill: var(--button-hover-fill-color);\n",
              "  }\n",
              "\n",
              "  .colab-df-quickchart-complete:disabled,\n",
              "  .colab-df-quickchart-complete:disabled:hover {\n",
              "    background-color: var(--disabled-bg-color);\n",
              "    fill: var(--disabled-fill-color);\n",
              "    box-shadow: none;\n",
              "  }\n",
              "\n",
              "  .colab-df-spinner {\n",
              "    border: 2px solid var(--fill-color);\n",
              "    border-color: transparent;\n",
              "    border-bottom-color: var(--fill-color);\n",
              "    animation:\n",
              "      spin 1s steps(1) infinite;\n",
              "  }\n",
              "\n",
              "  @keyframes spin {\n",
              "    0% {\n",
              "      border-color: transparent;\n",
              "      border-bottom-color: var(--fill-color);\n",
              "      border-left-color: var(--fill-color);\n",
              "    }\n",
              "    20% {\n",
              "      border-color: transparent;\n",
              "      border-left-color: var(--fill-color);\n",
              "      border-top-color: var(--fill-color);\n",
              "    }\n",
              "    30% {\n",
              "      border-color: transparent;\n",
              "      border-left-color: var(--fill-color);\n",
              "      border-top-color: var(--fill-color);\n",
              "      border-right-color: var(--fill-color);\n",
              "    }\n",
              "    40% {\n",
              "      border-color: transparent;\n",
              "      border-right-color: var(--fill-color);\n",
              "      border-top-color: var(--fill-color);\n",
              "    }\n",
              "    60% {\n",
              "      border-color: transparent;\n",
              "      border-right-color: var(--fill-color);\n",
              "    }\n",
              "    80% {\n",
              "      border-color: transparent;\n",
              "      border-right-color: var(--fill-color);\n",
              "      border-bottom-color: var(--fill-color);\n",
              "    }\n",
              "    90% {\n",
              "      border-color: transparent;\n",
              "      border-bottom-color: var(--fill-color);\n",
              "    }\n",
              "  }\n",
              "</style>\n",
              "\n",
              "  <script>\n",
              "    async function quickchart(key) {\n",
              "      const quickchartButtonEl =\n",
              "        document.querySelector('#' + key + ' button');\n",
              "      quickchartButtonEl.disabled = true;  // To prevent multiple clicks.\n",
              "      quickchartButtonEl.classList.add('colab-df-spinner');\n",
              "      try {\n",
              "        const charts = await google.colab.kernel.invokeFunction(\n",
              "            'suggestCharts', [key], {});\n",
              "      } catch (error) {\n",
              "        console.error('Error during call to suggestCharts:', error);\n",
              "      }\n",
              "      quickchartButtonEl.classList.remove('colab-df-spinner');\n",
              "      quickchartButtonEl.classList.add('colab-df-quickchart-complete');\n",
              "    }\n",
              "    (() => {\n",
              "      let quickchartButtonEl =\n",
              "        document.querySelector('#df-d8dca025-840f-4813-8298-4a3c47ceb1f4 button');\n",
              "      quickchartButtonEl.style.display =\n",
              "        google.colab.kernel.accessAllowed ? 'block' : 'none';\n",
              "    })();\n",
              "  </script>\n",
              "</div>\n",
              "\n",
              "    </div>\n",
              "  </div>\n"
            ],
            "application/vnd.google.colaboratory.intrinsic+json": {
              "type": "dataframe",
              "summary": "{\n  \"name\": \"df\",\n  \"rows\": 8,\n  \"fields\": [\n    {\n      \"column\": \"Rank\",\n      \"properties\": {\n        \"dtype\": \"number\",\n        \"std\": 890.7361606613755,\n        \"min\": 1.0,\n        \"max\": 2509.0,\n        \"num_unique_values\": 8,\n        \"samples\": [\n          1248.2173377156944,\n          1248.5,\n          2434.0\n        ],\n        \"semantic_type\": \"\",\n        \"description\": \"\"\n      }\n    },\n    {\n      \"column\": \"Net Worth\",\n      \"properties\": {\n        \"dtype\": \"number\",\n        \"std\": 851.5580725723278,\n        \"min\": 1.0,\n        \"max\": 2434.0,\n        \"num_unique_values\": 8,\n        \"samples\": [\n          4.827382908792112,\n          2.4,\n          2434.0\n        ],\n        \"semantic_type\": \"\",\n        \"description\": \"\"\n      }\n    },\n    {\n      \"column\": \"Age\",\n      \"properties\": {\n        \"dtype\": \"number\",\n        \"std\": 841.3411883211774,\n        \"min\": 13.360183745805077,\n        \"max\": 2434.0,\n        \"num_unique_values\": 8,\n        \"samples\": [\n          64.31717337715695,\n          64.0,\n          2434.0\n        ],\n        \"semantic_type\": \"\",\n        \"description\": \"\"\n      }\n    }\n  ]\n}"
            }
          },
          "metadata": {},
          "execution_count": 25
        }
      ]
    },
    {
      "cell_type": "code",
      "source": [
        "df['Age'].plot(kind='hist',bins=[10,20,30,40,50,60,70,80,90,100])\n",
        "plt.show()"
      ],
      "metadata": {
        "colab": {
          "base_uri": "https://localhost:8080/",
          "height": 430
        },
        "id": "MWv6UkjrPYWd",
        "outputId": "c8c89eb1-057d-4c49-a26e-a561c94bda68"
      },
      "execution_count": 26,
      "outputs": [
        {
          "output_type": "display_data",
          "data": {
            "text/plain": [
              "<Figure size 640x480 with 1 Axes>"
            ],
            "image/png": "[encoded data removed]"
          },
          "metadata": {}
        }
      ]
    },
    {
      "cell_type": "code",
      "source": [
        "# 9. ‘Net worth’ 열에서 상위 1000 개 행의 히스토그램을 그리시오.\n",
        "\n",
        "df['Net Worth'][0:1000].plot(kind='hist')\n",
        "plt.show()"
      ],
      "metadata": {
        "colab": {
          "base_uri": "https://localhost:8080/",
          "height": 430
        },
        "id": "jDI26XgwQL48",
        "outputId": "2811b324-3abc-4da5-f2ba-8f483bec85d9"
      },
      "execution_count": 27,
      "outputs": [
        {
          "output_type": "display_data",
          "data": {
            "text/plain": [
              "<Figure size 640x480 with 1 Axes>"
            ],
            "image/png": "[encoded data removed]"
          },
          "metadata": {}
        }
      ]
    },
    {
      "cell_type": "code",
      "source": [
        "# 10. 국가명 히스토그램을 그리시오. (x 축: 국가명, y 축: 국가 빈도수)\n",
        "\n",
        "df['Country'].value_counts().plot(kind='bar', figsize = (15,5)) # 데이터가 너무 많아서 figure size 조정\n",
        "plt.show()"
      ],
      "metadata": {
        "colab": {
          "base_uri": "https://localhost:8080/",
          "height": 570
        },
        "id": "xCqcWU2vQa9j",
        "outputId": "8b6abcc2-a54f-4c98-d94d-733a9f6ae9d5"
      },
      "execution_count": 41,
      "outputs": [
        {
          "output_type": "display_data",
          "data": {
            "text/plain": [
              "<Figure size 1500x500 with 1 Axes>"
            ],
            "image/png": "[encoded data removed]"
          },
          "metadata": {}
        }
      ]
    }
  ]
}
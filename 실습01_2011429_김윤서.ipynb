{
  "nbformat": 4,
  "nbformat_minor": 0,
  "metadata": {
    "colab": {
      "provenance": [],
      "authorship_tag": "ABX9TyMo8Cl7k0Sux3HO2zuRGPyM",
      "include_colab_link": true
    },
    "kernelspec": {
      "name": "python3",
      "display_name": "Python 3"
    },
    "language_info": {
      "name": "python"
    }
  },
  "cells": [
    {
      "cell_type": "markdown",
      "metadata": {
        "id": "view-in-github",
        "colab_type": "text"
      },
      "source": [
        "<a href=\"https://colab.research.google.com/github/rladbstj56/2024PythonDataAnalysis/blob/main/%EC%8B%A4%EC%8A%B501_2011429_%EA%B9%80%EC%9C%A4%EC%84%9C.ipynb\" target=\"_parent\"><img src=\"https://colab.research.google.com/assets/colab-badge.svg\" alt=\"Open In Colab\"/></a>"
      ]
    },
    {
      "cell_type": "code",
      "execution_count": null,
      "metadata": {
        "id": "rQJBdqmBjXRL"
      },
      "outputs": [],
      "source": [
        "cel = [-20, -10, 0, 10, 20, 30, 40, 50]\n",
        "\n",
        "fah = list(map(lambda x:(x*9/5)+32, cel))\n",
        "print(fah)\n",
        "print(cel)"
      ]
    },
    {
      "cell_type": "code",
      "source": [
        "word = ['aaabbaaa', 'aabbbaaa', 'radar', '소주만병만주소', '역삼역', '용산역']\n",
        "\n",
        "def palin(w):\n",
        "\n",
        "  for j in range(len(w)//2):\n",
        "      if(w[j] != w[-1-j]): return False\n",
        "  return True\n",
        "\n",
        "palinword = list(filter(palin, word))\n",
        "\n",
        "print(palinword)"
      ],
      "metadata": {
        "id": "6Dfb4SpujdG2"
      },
      "execution_count": null,
      "outputs": []
    },
    {
      "cell_type": "code",
      "source": [
        "s = ['computer', 'python', 'sbs', 'sookmyung', 'datascience', 'orange']\n",
        "\n",
        "def vowel(w):\n",
        "  for alp in w:\n",
        "    if (alp=='a' or alp=='e' or alp=='i' or alp=='o' or alp=='u' ):\n",
        "       yield alp\n",
        "\n",
        "for word in s:\n",
        "  result = set()\n",
        "  for v in vowel(word):\n",
        "    result.add(v)\n",
        "  print(list(result))"
      ],
      "metadata": {
        "colab": {
          "base_uri": "https://localhost:8080/"
        },
        "id": "OJSmMrH3jk3c",
        "outputId": "b04dbf75-f56d-4f50-f0b6-1bd0bbd7f892"
      },
      "execution_count": 4,
      "outputs": [
        {
          "output_type": "stream",
          "name": "stdout",
          "text": [
            "['o', 'u', 'e']\n",
            "['o']\n",
            "[]\n",
            "['o', 'u']\n",
            "['i', 'a', 'e']\n",
            "['o', 'a', 'e']\n"
          ]
        }
      ]
    }
  ]
}
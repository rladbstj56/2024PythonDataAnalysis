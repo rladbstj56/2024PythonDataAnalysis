{
  "nbformat": 4,
  "nbformat_minor": 0,
  "metadata": {
    "colab": {
      "provenance": [],
      "authorship_tag": "ABX9TyO36kbEv89CichSbNsXLz4P",
      "include_colab_link": true
    },
    "kernelspec": {
      "name": "python3",
      "display_name": "Python 3"
    },
    "language_info": {
      "name": "python"
    }
  },
  "cells": [
    {
      "cell_type": "markdown",
      "metadata": {
        "id": "view-in-github",
        "colab_type": "text"
      },
      "source": [
        "<a href=\"https://colab.research.google.com/github/rladbstj56/2024PythonDataAnalysis/blob/main/240912_DA_1_2.ipynb\" target=\"_parent\"><img src=\"https://colab.research.google.com/assets/colab-badge.svg\" alt=\"Open In Colab\"/></a>"
      ]
    },
    {
      "cell_type": "code",
      "execution_count": null,
      "metadata": {
        "colab": {
          "base_uri": "https://localhost:8080/"
        },
        "id": "BKomqCfwobLY",
        "outputId": "ff67d641-dfd1-4ff5-e264-13302fae3623"
      },
      "outputs": [
        {
          "output_type": "stream",
          "name": "stdout",
          "text": [
            "['aaabbaaa', 'radar', '소주만병만주소', '역삼역']\n"
          ]
        }
      ],
      "source": [
        "word = ['aaabbaaa', 'aabbbaaa', 'radar', '소주만병만주소', '역삼역', '용산역']\n",
        "\n",
        "def palin(w):\n",
        "\n",
        "  for j in range(len(w)//2):\n",
        "      if(w[j] != w[-1-j]): return False\n",
        "  return True\n",
        "\n",
        "palinword = list(filter(palin, word))\n",
        "\n",
        "print(palinword)"
      ]
    }
  ]
}
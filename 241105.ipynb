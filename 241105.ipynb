{
  "nbformat": 4,
  "nbformat_minor": 0,
  "metadata": {
    "colab": {
      "provenance": [],
      "mount_file_id": "1FwwcsXn9DBm_pGvFo_nv2xOmqyzBRSx3",
      "authorship_tag": "ABX9TyMRiviFAO4fnPUj7l4Gc+ef",
      "include_colab_link": true
    },
    "kernelspec": {
      "name": "python3",
      "display_name": "Python 3"
    },
    "language_info": {
      "name": "python"
    }
  },
  "cells": [
    {
      "cell_type": "markdown",
      "metadata": {
        "id": "view-in-github",
        "colab_type": "text"
      },
      "source": [
        "<a href=\"https://colab.research.google.com/github/rladbstj56/2024PythonDataAnalysis/blob/main/241105.ipynb\" target=\"_parent\"><img src=\"https://colab.research.google.com/assets/colab-badge.svg\" alt=\"Open In Colab\"/></a>"
      ]
    },
    {
      "cell_type": "code",
      "execution_count": 2,
      "metadata": {
        "colab": {
          "base_uri": "https://localhost:8080/",
          "height": 206
        },
        "id": "KjVOrJ-Qz2kZ",
        "outputId": "b9cba071-3f28-4f3f-9576-d1f5cbbdf1ce"
      },
      "outputs": [
        {
          "output_type": "execute_result",
          "data": {
            "text/plain": [
              "   Pregnancies  Glucose  BloodPressure  SkinThickness  Insulin   BMI  \\\n",
              "0            6      148             72             35        0  33.6   \n",
              "1            1       85             66             29        0  26.6   \n",
              "2            8      183             64              0        0  23.3   \n",
              "3            1       89             66             23       94  28.1   \n",
              "4            0      137             40             35      168  43.1   \n",
              "\n",
              "   DiabetesPedigreeFunction  Age  Outcome  \n",
              "0                     0.627   50        1  \n",
              "1                     0.351   31        0  \n",
              "2                     0.672   32        1  \n",
              "3                     0.167   21        0  \n",
              "4                     2.288   33        1  "
            ],
            "text/html": [
              "\n",
              "  <div id=\"df-adb17a84-4ed8-4fa0-bdb4-7a558fdd2615\" class=\"colab-df-container\">\n",
              "    <div>\n",
              "<style scoped>\n",
              "    .dataframe tbody tr th:only-of-type {\n",
              "        vertical-align: middle;\n",
              "    }\n",
              "\n",
              "    .dataframe tbody tr th {\n",
              "        vertical-align: top;\n",
              "    }\n",
              "\n",
              "    .dataframe thead th {\n",
              "        text-align: right;\n",
              "    }\n",
              "</style>\n",
              "<table border=\"1\" class=\"dataframe\">\n",
              "  <thead>\n",
              "    <tr style=\"text-align: right;\">\n",
              "      <th></th>\n",
              "      <th>Pregnancies</th>\n",
              "      <th>Glucose</th>\n",
              "      <th>BloodPressure</th>\n",
              "      <th>SkinThickness</th>\n",
              "      <th>Insulin</th>\n",
              "      <th>BMI</th>\n",
              "      <th>DiabetesPedigreeFunction</th>\n",
              "      <th>Age</th>\n",
              "      <th>Outcome</th>\n",
              "    </tr>\n",
              "  </thead>\n",
              "  <tbody>\n",
              "    <tr>\n",
              "      <th>0</th>\n",
              "      <td>6</td>\n",
              "      <td>148</td>\n",
              "      <td>72</td>\n",
              "      <td>35</td>\n",
              "      <td>0</td>\n",
              "      <td>33.6</td>\n",
              "      <td>0.627</td>\n",
              "      <td>50</td>\n",
              "      <td>1</td>\n",
              "    </tr>\n",
              "    <tr>\n",
              "      <th>1</th>\n",
              "      <td>1</td>\n",
              "      <td>85</td>\n",
              "      <td>66</td>\n",
              "      <td>29</td>\n",
              "      <td>0</td>\n",
              "      <td>26.6</td>\n",
              "      <td>0.351</td>\n",
              "      <td>31</td>\n",
              "      <td>0</td>\n",
              "    </tr>\n",
              "    <tr>\n",
              "      <th>2</th>\n",
              "      <td>8</td>\n",
              "      <td>183</td>\n",
              "      <td>64</td>\n",
              "      <td>0</td>\n",
              "      <td>0</td>\n",
              "      <td>23.3</td>\n",
              "      <td>0.672</td>\n",
              "      <td>32</td>\n",
              "      <td>1</td>\n",
              "    </tr>\n",
              "    <tr>\n",
              "      <th>3</th>\n",
              "      <td>1</td>\n",
              "      <td>89</td>\n",
              "      <td>66</td>\n",
              "      <td>23</td>\n",
              "      <td>94</td>\n",
              "      <td>28.1</td>\n",
              "      <td>0.167</td>\n",
              "      <td>21</td>\n",
              "      <td>0</td>\n",
              "    </tr>\n",
              "    <tr>\n",
              "      <th>4</th>\n",
              "      <td>0</td>\n",
              "      <td>137</td>\n",
              "      <td>40</td>\n",
              "      <td>35</td>\n",
              "      <td>168</td>\n",
              "      <td>43.1</td>\n",
              "      <td>2.288</td>\n",
              "      <td>33</td>\n",
              "      <td>1</td>\n",
              "    </tr>\n",
              "  </tbody>\n",
              "</table>\n",
              "</div>\n",
              "    <div class=\"colab-df-buttons\">\n",
              "\n",
              "  <div class=\"colab-df-container\">\n",
              "    <button class=\"colab-df-convert\" onclick=\"convertToInteractive('df-adb17a84-4ed8-4fa0-bdb4-7a558fdd2615')\"\n",
              "            title=\"Convert this dataframe to an interactive table.\"\n",
              "            style=\"display:none;\">\n",
              "\n",
              "  <svg xmlns=\"http://www.w3.org/2000/svg\" height=\"24px\" viewBox=\"0 -960 960 960\">\n",
              "    <path d=\"M120-120v-720h720v720H120Zm60-500h600v-160H180v160Zm220 220h160v-160H400v160Zm0 220h160v-160H400v160ZM180-400h160v-160H180v160Zm440 0h160v-160H620v160ZM180-180h160v-160H180v160Zm440 0h160v-160H620v160Z\"/>\n",
              "  </svg>\n",
              "    </button>\n",
              "\n",
              "  <style>\n",
              "    .colab-df-container {\n",
              "      display:flex;\n",
              "      gap: 12px;\n",
              "    }\n",
              "\n",
              "    .colab-df-convert {\n",
              "      background-color: #E8F0FE;\n",
              "      border: none;\n",
              "      border-radius: 50%;\n",
              "      cursor: pointer;\n",
              "      display: none;\n",
              "      fill: #1967D2;\n",
              "      height: 32px;\n",
              "      padding: 0 0 0 0;\n",
              "      width: 32px;\n",
              "    }\n",
              "\n",
              "    .colab-df-convert:hover {\n",
              "      background-color: #E2EBFA;\n",
              "      box-shadow: 0px 1px 2px rgba(60, 64, 67, 0.3), 0px 1px 3px 1px rgba(60, 64, 67, 0.15);\n",
              "      fill: #174EA6;\n",
              "    }\n",
              "\n",
              "    .colab-df-buttons div {\n",
              "      margin-bottom: 4px;\n",
              "    }\n",
              "\n",
              "    [theme=dark] .colab-df-convert {\n",
              "      background-color: #3B4455;\n",
              "      fill: #D2E3FC;\n",
              "    }\n",
              "\n",
              "    [theme=dark] .colab-df-convert:hover {\n",
              "      background-color: #434B5C;\n",
              "      box-shadow: 0px 1px 3px 1px rgba(0, 0, 0, 0.15);\n",
              "      filter: drop-shadow(0px 1px 2px rgba(0, 0, 0, 0.3));\n",
              "      fill: #FFFFFF;\n",
              "    }\n",
              "  </style>\n",
              "\n",
              "    <script>\n",
              "      const buttonEl =\n",
              "        document.querySelector('#df-adb17a84-4ed8-4fa0-bdb4-7a558fdd2615 button.colab-df-convert');\n",
              "      buttonEl.style.display =\n",
              "        google.colab.kernel.accessAllowed ? 'block' : 'none';\n",
              "\n",
              "      async function convertToInteractive(key) {\n",
              "        const element = document.querySelector('#df-adb17a84-4ed8-4fa0-bdb4-7a558fdd2615');\n",
              "        const dataTable =\n",
              "          await google.colab.kernel.invokeFunction('convertToInteractive',\n",
              "                                                    [key], {});\n",
              "        if (!dataTable) return;\n",
              "\n",
              "        const docLinkHtml = 'Like what you see? Visit the ' +\n",
              "          '<a target=\"_blank\" href=https://colab.research.google.com/notebooks/data_table.ipynb>data table notebook</a>'\n",
              "          + ' to learn more about interactive tables.';\n",
              "        element.innerHTML = '';\n",
              "        dataTable['output_type'] = 'display_data';\n",
              "        await google.colab.output.renderOutput(dataTable, element);\n",
              "        const docLink = document.createElement('div');\n",
              "        docLink.innerHTML = docLinkHtml;\n",
              "        element.appendChild(docLink);\n",
              "      }\n",
              "    </script>\n",
              "  </div>\n",
              "\n",
              "\n",
              "<div id=\"df-94982c44-2317-47c6-aa52-27c161481813\">\n",
              "  <button class=\"colab-df-quickchart\" onclick=\"quickchart('df-94982c44-2317-47c6-aa52-27c161481813')\"\n",
              "            title=\"Suggest charts\"\n",
              "            style=\"display:none;\">\n",
              "\n",
              "<svg xmlns=\"http://www.w3.org/2000/svg\" height=\"24px\"viewBox=\"0 0 24 24\"\n",
              "     width=\"24px\">\n",
              "    <g>\n",
              "        <path d=\"M19 3H5c-1.1 0-2 .9-2 2v14c0 1.1.9 2 2 2h14c1.1 0 2-.9 2-2V5c0-1.1-.9-2-2-2zM9 17H7v-7h2v7zm4 0h-2V7h2v10zm4 0h-2v-4h2v4z\"/>\n",
              "    </g>\n",
              "</svg>\n",
              "  </button>\n",
              "\n",
              "<style>\n",
              "  .colab-df-quickchart {\n",
              "      --bg-color: #E8F0FE;\n",
              "      --fill-color: #1967D2;\n",
              "      --hover-bg-color: #E2EBFA;\n",
              "      --hover-fill-color: #174EA6;\n",
              "      --disabled-fill-color: #AAA;\n",
              "      --disabled-bg-color: #DDD;\n",
              "  }\n",
              "\n",
              "  [theme=dark] .colab-df-quickchart {\n",
              "      --bg-color: #3B4455;\n",
              "      --fill-color: #D2E3FC;\n",
              "      --hover-bg-color: #434B5C;\n",
              "      --hover-fill-color: #FFFFFF;\n",
              "      --disabled-bg-color: #3B4455;\n",
              "      --disabled-fill-color: #666;\n",
              "  }\n",
              "\n",
              "  .colab-df-quickchart {\n",
              "    background-color: var(--bg-color);\n",
              "    border: none;\n",
              "    border-radius: 50%;\n",
              "    cursor: pointer;\n",
              "    display: none;\n",
              "    fill: var(--fill-color);\n",
              "    height: 32px;\n",
              "    padding: 0;\n",
              "    width: 32px;\n",
              "  }\n",
              "\n",
              "  .colab-df-quickchart:hover {\n",
              "    background-color: var(--hover-bg-color);\n",
              "    box-shadow: 0 1px 2px rgba(60, 64, 67, 0.3), 0 1px 3px 1px rgba(60, 64, 67, 0.15);\n",
              "    fill: var(--button-hover-fill-color);\n",
              "  }\n",
              "\n",
              "  .colab-df-quickchart-complete:disabled,\n",
              "  .colab-df-quickchart-complete:disabled:hover {\n",
              "    background-color: var(--disabled-bg-color);\n",
              "    fill: var(--disabled-fill-color);\n",
              "    box-shadow: none;\n",
              "  }\n",
              "\n",
              "  .colab-df-spinner {\n",
              "    border: 2px solid var(--fill-color);\n",
              "    border-color: transparent;\n",
              "    border-bottom-color: var(--fill-color);\n",
              "    animation:\n",
              "      spin 1s steps(1) infinite;\n",
              "  }\n",
              "\n",
              "  @keyframes spin {\n",
              "    0% {\n",
              "      border-color: transparent;\n",
              "      border-bottom-color: var(--fill-color);\n",
              "      border-left-color: var(--fill-color);\n",
              "    }\n",
              "    20% {\n",
              "      border-color: transparent;\n",
              "      border-left-color: var(--fill-color);\n",
              "      border-top-color: var(--fill-color);\n",
              "    }\n",
              "    30% {\n",
              "      border-color: transparent;\n",
              "      border-left-color: var(--fill-color);\n",
              "      border-top-color: var(--fill-color);\n",
              "      border-right-color: var(--fill-color);\n",
              "    }\n",
              "    40% {\n",
              "      border-color: transparent;\n",
              "      border-right-color: var(--fill-color);\n",
              "      border-top-color: var(--fill-color);\n",
              "    }\n",
              "    60% {\n",
              "      border-color: transparent;\n",
              "      border-right-color: var(--fill-color);\n",
              "    }\n",
              "    80% {\n",
              "      border-color: transparent;\n",
              "      border-right-color: var(--fill-color);\n",
              "      border-bottom-color: var(--fill-color);\n",
              "    }\n",
              "    90% {\n",
              "      border-color: transparent;\n",
              "      border-bottom-color: var(--fill-color);\n",
              "    }\n",
              "  }\n",
              "</style>\n",
              "\n",
              "  <script>\n",
              "    async function quickchart(key) {\n",
              "      const quickchartButtonEl =\n",
              "        document.querySelector('#' + key + ' button');\n",
              "      quickchartButtonEl.disabled = true;  // To prevent multiple clicks.\n",
              "      quickchartButtonEl.classList.add('colab-df-spinner');\n",
              "      try {\n",
              "        const charts = await google.colab.kernel.invokeFunction(\n",
              "            'suggestCharts', [key], {});\n",
              "      } catch (error) {\n",
              "        console.error('Error during call to suggestCharts:', error);\n",
              "      }\n",
              "      quickchartButtonEl.classList.remove('colab-df-spinner');\n",
              "      quickchartButtonEl.classList.add('colab-df-quickchart-complete');\n",
              "    }\n",
              "    (() => {\n",
              "      let quickchartButtonEl =\n",
              "        document.querySelector('#df-94982c44-2317-47c6-aa52-27c161481813 button');\n",
              "      quickchartButtonEl.style.display =\n",
              "        google.colab.kernel.accessAllowed ? 'block' : 'none';\n",
              "    })();\n",
              "  </script>\n",
              "</div>\n",
              "\n",
              "    </div>\n",
              "  </div>\n"
            ],
            "application/vnd.google.colaboratory.intrinsic+json": {
              "type": "dataframe",
              "variable_name": "dia",
              "summary": "{\n  \"name\": \"dia\",\n  \"rows\": 768,\n  \"fields\": [\n    {\n      \"column\": \"Pregnancies\",\n      \"properties\": {\n        \"dtype\": \"number\",\n        \"std\": 3,\n        \"min\": 0,\n        \"max\": 17,\n        \"num_unique_values\": 17,\n        \"samples\": [\n          6,\n          1,\n          3\n        ],\n        \"semantic_type\": \"\",\n        \"description\": \"\"\n      }\n    },\n    {\n      \"column\": \"Glucose\",\n      \"properties\": {\n        \"dtype\": \"number\",\n        \"std\": 31,\n        \"min\": 0,\n        \"max\": 199,\n        \"num_unique_values\": 136,\n        \"samples\": [\n          151,\n          101,\n          112\n        ],\n        \"semantic_type\": \"\",\n        \"description\": \"\"\n      }\n    },\n    {\n      \"column\": \"BloodPressure\",\n      \"properties\": {\n        \"dtype\": \"number\",\n        \"std\": 19,\n        \"min\": 0,\n        \"max\": 122,\n        \"num_unique_values\": 47,\n        \"samples\": [\n          86,\n          46,\n          85\n        ],\n        \"semantic_type\": \"\",\n        \"description\": \"\"\n      }\n    },\n    {\n      \"column\": \"SkinThickness\",\n      \"properties\": {\n        \"dtype\": \"number\",\n        \"std\": 15,\n        \"min\": 0,\n        \"max\": 99,\n        \"num_unique_values\": 51,\n        \"samples\": [\n          7,\n          12,\n          48\n        ],\n        \"semantic_type\": \"\",\n        \"description\": \"\"\n      }\n    },\n    {\n      \"column\": \"Insulin\",\n      \"properties\": {\n        \"dtype\": \"number\",\n        \"std\": 115,\n        \"min\": 0,\n        \"max\": 846,\n        \"num_unique_values\": 186,\n        \"samples\": [\n          52,\n          41,\n          183\n        ],\n        \"semantic_type\": \"\",\n        \"description\": \"\"\n      }\n    },\n    {\n      \"column\": \"BMI\",\n      \"properties\": {\n        \"dtype\": \"number\",\n        \"std\": 7.8841603203754405,\n        \"min\": 0.0,\n        \"max\": 67.1,\n        \"num_unique_values\": 248,\n        \"samples\": [\n          19.9,\n          31.0,\n          38.1\n        ],\n        \"semantic_type\": \"\",\n        \"description\": \"\"\n      }\n    },\n    {\n      \"column\": \"DiabetesPedigreeFunction\",\n      \"properties\": {\n        \"dtype\": \"number\",\n        \"std\": 0.33132859501277484,\n        \"min\": 0.078,\n        \"max\": 2.42,\n        \"num_unique_values\": 517,\n        \"samples\": [\n          1.731,\n          0.426,\n          0.138\n        ],\n        \"semantic_type\": \"\",\n        \"description\": \"\"\n      }\n    },\n    {\n      \"column\": \"Age\",\n      \"properties\": {\n        \"dtype\": \"number\",\n        \"std\": 11,\n        \"min\": 21,\n        \"max\": 81,\n        \"num_unique_values\": 52,\n        \"samples\": [\n          60,\n          47,\n          72\n        ],\n        \"semantic_type\": \"\",\n        \"description\": \"\"\n      }\n    },\n    {\n      \"column\": \"Outcome\",\n      \"properties\": {\n        \"dtype\": \"number\",\n        \"std\": 0,\n        \"min\": 0,\n        \"max\": 1,\n        \"num_unique_values\": 2,\n        \"samples\": [\n          0,\n          1\n        ],\n        \"semantic_type\": \"\",\n        \"description\": \"\"\n      }\n    }\n  ]\n}"
            }
          },
          "metadata": {},
          "execution_count": 2
        }
      ],
      "source": [
        "import pandas as pd\n",
        "import numpy as np\n",
        "import matplotlib.pyplot as plt\n",
        "import seaborn as sns\n",
        "\n",
        "dia = pd.read_csv('/content/drive/MyDrive/pythondataanalysis/diabetes.csv')\n",
        "dia.head()"
      ]
    },
    {
      "cell_type": "code",
      "source": [
        "from sklearn.metrics import mean_squared_error\n",
        "from sklearn.metrics import confusion_matrix\n",
        "from sklearn.neighbors import KNeighborsClassifier\n",
        "from sklearn.model_selection import train_test_split\n",
        "from sklearn.preprocessing import StandardScaler\n",
        "\n",
        "dia.info()\n",
        "dia_x=dia.iloc[:,:8]\n",
        "dia_y=dia.iloc[:,8]\n",
        "print(dia_x.head())\n",
        "print(dia_y.head())"
      ],
      "metadata": {
        "colab": {
          "base_uri": "https://localhost:8080/"
        },
        "id": "pzBfZlQb1JdR",
        "outputId": "1bd50005-e092-4dcb-cd3b-7b542ddb0ca1"
      },
      "execution_count": 3,
      "outputs": [
        {
          "output_type": "stream",
          "name": "stdout",
          "text": [
            "<class 'pandas.core.frame.DataFrame'>\n",
            "RangeIndex: 768 entries, 0 to 767\n",
            "Data columns (total 9 columns):\n",
            " #   Column                    Non-Null Count  Dtype  \n",
            "---  ------                    --------------  -----  \n",
            " 0   Pregnancies               768 non-null    int64  \n",
            " 1   Glucose                   768 non-null    int64  \n",
            " 2   BloodPressure             768 non-null    int64  \n",
            " 3   SkinThickness             768 non-null    int64  \n",
            " 4   Insulin                   768 non-null    int64  \n",
            " 5   BMI                       768 non-null    float64\n",
            " 6   DiabetesPedigreeFunction  768 non-null    float64\n",
            " 7   Age                       768 non-null    int64  \n",
            " 8   Outcome                   768 non-null    int64  \n",
            "dtypes: float64(2), int64(7)\n",
            "memory usage: 54.1 KB\n",
            "   Pregnancies  Glucose  BloodPressure  SkinThickness  Insulin   BMI  \\\n",
            "0            6      148             72             35        0  33.6   \n",
            "1            1       85             66             29        0  26.6   \n",
            "2            8      183             64              0        0  23.3   \n",
            "3            1       89             66             23       94  28.1   \n",
            "4            0      137             40             35      168  43.1   \n",
            "\n",
            "   DiabetesPedigreeFunction  Age  \n",
            "0                     0.627   50  \n",
            "1                     0.351   31  \n",
            "2                     0.672   32  \n",
            "3                     0.167   21  \n",
            "4                     2.288   33  \n",
            "0    1\n",
            "1    0\n",
            "2    1\n",
            "3    0\n",
            "4    1\n",
            "Name: Outcome, dtype: int64\n"
          ]
        }
      ]
    },
    {
      "cell_type": "code",
      "source": [
        "x_train,x_test,y_train,y_test=train_test_split(dia_x,dia_y,test_size=0.2,random_state=42)\n",
        "print(x_train.shape)\n",
        "print(x_test.shape)\n",
        "print(y_train.shape)\n",
        "print(y_test.shape)"
      ],
      "metadata": {
        "colab": {
          "base_uri": "https://localhost:8080/"
        },
        "id": "vHxKD_ZS1rfm",
        "outputId": "ef5f65de-a243-4bb5-c99d-d3f092a06c1d"
      },
      "execution_count": 4,
      "outputs": [
        {
          "output_type": "stream",
          "name": "stdout",
          "text": [
            "(614, 8)\n",
            "(154, 8)\n",
            "(614,)\n",
            "(154,)\n"
          ]
        }
      ]
    },
    {
      "cell_type": "code",
      "source": [
        "scaler = StandardScaler()\n",
        "x_train_std=scaler.fit_transform(x_train)\n",
        "print(x_train_std,\"end\\n\")\n",
        "x_test_std=scaler.fit_transform(x_test)\n",
        "print(x_test_std)"
      ],
      "metadata": {
        "colab": {
          "base_uri": "https://localhost:8080/"
        },
        "id": "PS6S1R2O18RW",
        "outputId": "8cf27634-f773-4e7d-d1c0-8886a38bd13d"
      },
      "execution_count": 5,
      "outputs": [
        {
          "output_type": "stream",
          "name": "stdout",
          "text": [
            "[[-0.52639686 -1.15139792 -3.75268255 ... -4.13525578 -0.49073479\n",
            "  -1.03594038]\n",
            " [ 1.58804586 -0.27664283  0.68034485 ... -0.48916881  2.41502991\n",
            "   1.48710085]\n",
            " [-0.82846011  0.56687102 -1.2658623  ... -0.42452187  0.54916055\n",
            "  -0.94893896]\n",
            " ...\n",
            " [ 1.8901091  -0.62029661  0.89659009 ...  1.76054443  1.981245\n",
            "   0.44308379]\n",
            " [-1.13052335  0.62935353 -3.75268255 ...  1.34680407 -0.78487662\n",
            "  -0.33992901]\n",
            " [-1.13052335  0.12949347  1.43720319 ... -1.22614383 -0.61552223\n",
            "  -1.03594038]] end\n",
            "\n",
            "[[ 0.49124165 -0.72667791 -0.44147615 ...  0.23374785 -0.17094071\n",
            "   0.66661154]\n",
            " [-0.63368347 -0.28534901  0.31890843 ...  0.43537945 -1.08608042\n",
            "  -1.07335756]\n",
            " [-0.63368347 -0.41144298 -0.17310512 ... -0.14579397 -1.05362866\n",
            "  -1.07335756]\n",
            " ...\n",
            " [ 1.05370422 -0.82124838  0.18472291 ...  0.56584695  0.00754398\n",
            "   1.77386461]\n",
            " [-0.63368347  0.78644972  0.09526591 ... -0.47789306 -0.47274211\n",
            "  -0.44064153]\n",
            " [ 1.05370422 -1.48324172  0.09526591 ...  0.38793672  0.72148276\n",
            "   0.35025352]]\n"
          ]
        }
      ]
    },
    {
      "cell_type": "code",
      "source": [
        "train_accuracy=[]\n",
        "test_accuracy=[]\n",
        "\n",
        "neighbors=range(1,16)\n",
        "\n",
        "for k in neighbors:\n",
        "  knn = KNeighborsClassifier(n_neighbors=k)\n",
        "  knn.fit(x_train_std,y_train)\n",
        "  score = knn.score(x_train_std, y_train)\n",
        "  train_accuracy.append(score)\n",
        "  score = knn.score(x_test_std, y_test)\n",
        "  test_accuracy.append(score)\n",
        "plt.plot(neighbors, train_accuracy, label='train')\n",
        "plt.plot(neighbors, test_accuracy, label='test')\n",
        "plt.xlabel('k')\n",
        "plt.ylabel('Accuracy')\n",
        "plt.legend()\n",
        "plt.show()"
      ],
      "metadata": {
        "colab": {
          "base_uri": "https://localhost:8080/",
          "height": 449
        },
        "id": "VNS-HhFF2ax2",
        "outputId": "d45d3e3b-3a18-40b8-891d-44fcda2cb58b"
      },
      "execution_count": 6,
      "outputs": [
        {
          "output_type": "display_data",
          "data": {
            "text/plain": [
              "<Figure size 640x480 with 1 Axes>"
            ],
            "image/png": "[encoded data removed]"
          },
          "metadata": {}
        }
      ]
    },
    {
      "cell_type": "code",
      "source": [
        "k=10 # 최근접 이웃의 수\n",
        "knn = KNeighborsClassifier(n_neighbors=k)\n",
        "knn.fit(x_train_std,y_train)\n",
        "y_pred = knn.predict(x_test_std)\n",
        "print(y_pred) # 당뇨병 여부 (1=yes, 0=no)"
      ],
      "metadata": {
        "colab": {
          "base_uri": "https://localhost:8080/"
        },
        "id": "5YNcFgZmeiB5",
        "outputId": "e5b47009-8b37-4c1d-9c49-0fee22f72962"
      },
      "execution_count": 7,
      "outputs": [
        {
          "output_type": "stream",
          "name": "stdout",
          "text": [
            "[0 0 0 0 1 0 0 0 1 0 0 1 0 0 0 0 0 0 1 0 1 0 0 0 0 1 0 0 0 0 1 1 1 1 1 1 1\n",
            " 0 0 1 0 1 0 0 0 0 1 0 0 1 0 1 1 0 0 0 1 0 0 1 0 0 1 0 0 0 0 1 0 1 1 0 0 0\n",
            " 0 0 0 0 0 0 1 0 0 0 0 1 1 0 0 0 0 0 0 0 0 1 1 0 1 0 1 0 0 0 1 0 0 0 0 1 0\n",
            " 0 0 1 0 0 0 0 0 0 0 0 0 0 0 0 0 1 1 1 1 1 0 0 0 0 0 1 0 0 0 0 0 0 0 0 0 0\n",
            " 0 1 0 0 0 0]\n"
          ]
        }
      ]
    },
    {
      "cell_type": "code",
      "source": [
        "cf = confusion_matrix(y_test,y_pred)\n",
        "print(cf)\n",
        "print(knn.score(x_test_std,y_test))"
      ],
      "metadata": {
        "colab": {
          "base_uri": "https://localhost:8080/"
        },
        "id": "vVqWIrMqe5Tr",
        "outputId": "c3171083-538b-441b-de98-20a1b5ecb470"
      },
      "execution_count": 8,
      "outputs": [
        {
          "output_type": "stream",
          "name": "stdout",
          "text": [
            "[[85 14]\n",
            " [27 28]]\n",
            "0.7337662337662337\n"
          ]
        }
      ]
    },
    {
      "cell_type": "code",
      "source": [
        "score = pd.read_csv('/content/drive/MyDrive/pythondataanalysis/grade2.csv')\n",
        "print(score.head())"
      ],
      "metadata": {
        "colab": {
          "base_uri": "https://localhost:8080/"
        },
        "id": "B6ML0QsdgZ0t",
        "outputId": "26a6d1cc-8507-4618-9dc7-39d67c2ca144"
      },
      "execution_count": 9,
      "outputs": [
        {
          "output_type": "stream",
          "name": "stdout",
          "text": [
            "   no  mid_test  final_test  hw1  hw2  grade mark\n",
            "0   1        75          68   76   74     85   B+\n",
            "1   2        76          56   95   99     85   B+\n",
            "2   3        70          82   97  100     90    A\n",
            "3   4        87          81  100   93     90    A\n",
            "4   5        79          88   82   36     85   B+\n"
          ]
        }
      ]
    },
    {
      "cell_type": "code",
      "source": [],
      "metadata": {
        "id": "vSeVhJwyjA4d"
      },
      "execution_count": null,
      "outputs": []
    },
    {
      "cell_type": "code",
      "source": [
        "score['test'] = score['mid_test']*0.4 + score['final_test']*0.4\n",
        "score['test'] = score['test'].astype(int)\n",
        "score['hw'] = score['hw1']*0.1 + score['hw2']*0.1\n",
        "score['hw'] = score['hw'].astype(int)\n",
        "print(score.head())"
      ],
      "metadata": {
        "colab": {
          "base_uri": "https://localhost:8080/"
        },
        "id": "Kw9XofyDhYeM",
        "outputId": "d2fc51a7-f8c5-4003-bf3d-93ad45058b2a"
      },
      "execution_count": 16,
      "outputs": [
        {
          "output_type": "stream",
          "name": "stdout",
          "text": [
            "   no  mid_test  final_test  hw1  hw2  grade mark  test  hw\n",
            "0   1        75          68   76   74     85   B+    57  15\n",
            "1   2        76          56   95   99     85   B+    52  19\n",
            "2   3        70          82   97  100     90    A    60  19\n",
            "3   4        87          81  100   93     90    A    67  19\n",
            "4   5        79          88   82   36     85   B+    66  11\n"
          ]
        }
      ]
    },
    {
      "cell_type": "code",
      "source": [
        "x = score['test']\n",
        "y = score['hw']\n",
        "mark = score['mark']\n",
        "plt.figure(figsize=(10,6))\n",
        "plt.xticks(np.arange(0, 80, 3))\n",
        "plt.grid(axis='y', linestyle='--', color='gray', alpha=0.7)\n",
        "sns.stripplot(x='test',y='hw',data=score,hue='mark',size=7)\n",
        "plt.show()"
      ],
      "metadata": {
        "colab": {
          "base_uri": "https://localhost:8080/",
          "height": 542
        },
        "id": "PvVgMb9Th1vH",
        "outputId": "c1eae4eb-0c19-4a83-e118-1d4e9b590c1b"
      },
      "execution_count": 19,
      "outputs": [
        {
          "output_type": "display_data",
          "data": {
            "text/plain": [
              "<Figure size 1000x600 with 1 Axes>"
            ],
            "image/png": "[encoded data removed]"
          },
          "metadata": {}
        }
      ]
    },
    {
      "cell_type": "code",
      "source": [
        "from sklearn.neighbors import KNeighborsClassifier\n",
        "data = list(zip(x,y)) # 튜플 리스트\n",
        "knn = KNeighborsClassifier(n_neighbors=3)\n",
        "knn.fit(data,mark)\n",
        "knn.score(data,mark)"
      ],
      "metadata": {
        "colab": {
          "base_uri": "https://localhost:8080/"
        },
        "id": "CF9FXNthj9tO",
        "outputId": "965d7a43-9696-4cb9-bfe1-f0ba9483e0d3"
      },
      "execution_count": 20,
      "outputs": [
        {
          "output_type": "execute_result",
          "data": {
            "text/plain": [
              "0.8771929824561403"
            ]
          },
          "metadata": {},
          "execution_count": 20
        }
      ]
    },
    {
      "cell_type": "code",
      "source": [
        "item = [(40,7.5),(44,14),(67,18.5)]\n",
        "\n",
        "for i in (1,2,3,5):\n",
        "  knn = KNeighborsClassifier(n_neighbors=i)\n",
        "  knn.fit(data,mark)\n",
        "  pred = knn.predict(item)\n",
        "  print(pred)\n",
        "  print(knn.score(data,mark))"
      ],
      "metadata": {
        "colab": {
          "base_uri": "https://localhost:8080/"
        },
        "id": "VpB5ywfNiL2-",
        "outputId": "0f4c5bc9-f63f-4ebe-cd2b-d2723f955723"
      },
      "execution_count": 23,
      "outputs": [
        {
          "output_type": "stream",
          "name": "stdout",
          "text": [
            "['C+' 'B' 'A']\n",
            "1.0\n",
            "['C' 'B' 'A']\n",
            "0.8947368421052632\n",
            "['C' 'C+' 'A']\n",
            "0.8771929824561403\n",
            "['C+' 'C+' 'A']\n",
            "0.8421052631578947\n"
          ]
        }
      ]
    },
    {
      "cell_type": "code",
      "source": [
        "for item in [(40,7.5),(44,14),(67,18.5)]:\n",
        "  pred = knn.predict([item])\n",
        "  print(pred)"
      ],
      "metadata": {
        "colab": {
          "base_uri": "https://localhost:8080/"
        },
        "id": "OVvQAk8mkiwu",
        "outputId": "e67911fd-142c-4ea5-a943-f33603b2b209"
      },
      "execution_count": 22,
      "outputs": [
        {
          "output_type": "stream",
          "name": "stdout",
          "text": [
            "['C']\n",
            "['C+']\n",
            "['A']\n"
          ]
        }
      ]
    },
    {
      "cell_type": "code",
      "source": [
        "df = score[['test','hw']]\n",
        "from sklearn.preprocessing import MinMaxScaler\n",
        "scaler = MinMaxScaler()\n",
        "df_std = scaler.fit_transform(df)\n",
        "df_std = (df_std*100).astype(int)\n",
        "df2 = pd.DataFrame(df_std,columns=['test','hw'])\n",
        "print(df2)"
      ],
      "metadata": {
        "colab": {
          "base_uri": "https://localhost:8080/"
        },
        "id": "NiJxoNWBlpht",
        "outputId": "757ca1e1-6e4c-4441-9c54-f0cb2f7615d7"
      },
      "execution_count": 41,
      "outputs": [
        {
          "output_type": "stream",
          "name": "stdout",
          "text": [
            "    test   hw\n",
            "0     63   73\n",
            "1     54   94\n",
            "2     69   94\n",
            "3     81   94\n",
            "4     80   52\n",
            "5     20   73\n",
            "6     78   94\n",
            "7     74  100\n",
            "8     21   63\n",
            "9     30   21\n",
            "10    58   89\n",
            "11    80  100\n",
            "12    32   63\n",
            "13    40   36\n",
            "14    32  100\n",
            "15    54   84\n",
            "16    54  100\n",
            "17    27   26\n",
            "18    25    0\n",
            "19    49   78\n",
            "20    21   42\n",
            "21    14   36\n",
            "22    49   89\n",
            "23    16   47\n",
            "24    72   63\n",
            "25    16   47\n",
            "26     5   21\n",
            "27    47   78\n",
            "28     3   10\n",
            "29    90   94\n",
            "30    54   94\n",
            "31    43   52\n",
            "32    54   94\n",
            "33    32   63\n",
            "34    54   36\n",
            "35     0   63\n",
            "36   100  100\n",
            "37    20   63\n",
            "38     7   57\n",
            "39    63   57\n",
            "40    40   31\n",
            "41    34   94\n",
            "42    58   94\n",
            "43    40   78\n",
            "44    81  100\n",
            "45    21   26\n",
            "46    18   63\n",
            "47    50  100\n",
            "48    23   73\n",
            "49    58   94\n",
            "50    94  100\n",
            "51    49   78\n",
            "52    83   89\n",
            "53    83  100\n",
            "54    36   42\n",
            "55    21   52\n",
            "56    47   94\n"
          ]
        }
      ]
    },
    {
      "cell_type": "code",
      "source": [
        "x = df2['test']\n",
        "y = df2['hw']\n",
        "\n",
        "data = list(zip(x,y))\n",
        "item = [(40,37.5),(44,70),(67,92.5)]\n",
        "\n",
        "print(x)\n",
        "print(y)"
      ],
      "metadata": {
        "colab": {
          "base_uri": "https://localhost:8080/"
        },
        "id": "fDdDHQZhnkkY",
        "outputId": "239f27bd-08cd-4d98-933c-570dddffd31b"
      },
      "execution_count": 42,
      "outputs": [
        {
          "output_type": "stream",
          "name": "stdout",
          "text": [
            "0      63\n",
            "1      54\n",
            "2      69\n",
            "3      81\n",
            "4      80\n",
            "5      20\n",
            "6      78\n",
            "7      74\n",
            "8      21\n",
            "9      30\n",
            "10     58\n",
            "11     80\n",
            "12     32\n",
            "13     40\n",
            "14     32\n",
            "15     54\n",
            "16     54\n",
            "17     27\n",
            "18     25\n",
            "19     49\n",
            "20     21\n",
            "21     14\n",
            "22     49\n",
            "23     16\n",
            "24     72\n",
            "25     16\n",
            "26      5\n",
            "27     47\n",
            "28      3\n",
            "29     90\n",
            "30     54\n",
            "31     43\n",
            "32     54\n",
            "33     32\n",
            "34     54\n",
            "35      0\n",
            "36    100\n",
            "37     20\n",
            "38      7\n",
            "39     63\n",
            "40     40\n",
            "41     34\n",
            "42     58\n",
            "43     40\n",
            "44     81\n",
            "45     21\n",
            "46     18\n",
            "47     50\n",
            "48     23\n",
            "49     58\n",
            "50     94\n",
            "51     49\n",
            "52     83\n",
            "53     83\n",
            "54     36\n",
            "55     21\n",
            "56     47\n",
            "Name: test, dtype: int64\n",
            "0      73\n",
            "1      94\n",
            "2      94\n",
            "3      94\n",
            "4      52\n",
            "5      73\n",
            "6      94\n",
            "7     100\n",
            "8      63\n",
            "9      21\n",
            "10     89\n",
            "11    100\n",
            "12     63\n",
            "13     36\n",
            "14    100\n",
            "15     84\n",
            "16    100\n",
            "17     26\n",
            "18      0\n",
            "19     78\n",
            "20     42\n",
            "21     36\n",
            "22     89\n",
            "23     47\n",
            "24     63\n",
            "25     47\n",
            "26     21\n",
            "27     78\n",
            "28     10\n",
            "29     94\n",
            "30     94\n",
            "31     52\n",
            "32     94\n",
            "33     63\n",
            "34     36\n",
            "35     63\n",
            "36    100\n",
            "37     63\n",
            "38     57\n",
            "39     57\n",
            "40     31\n",
            "41     94\n",
            "42     94\n",
            "43     78\n",
            "44    100\n",
            "45     26\n",
            "46     63\n",
            "47    100\n",
            "48     73\n",
            "49     94\n",
            "50    100\n",
            "51     78\n",
            "52     89\n",
            "53    100\n",
            "54     42\n",
            "55     52\n",
            "56     94\n",
            "Name: hw, dtype: int64\n"
          ]
        }
      ]
    },
    {
      "cell_type": "code",
      "source": [
        "for i in (1,2,3,5):\n",
        "  knn = KNeighborsClassifier(n_neighbors = i)\n",
        "  knn.fit(data,mark)\n",
        "  print(knn.score(data,mark))\n",
        "  pred = knn.predict(item)\n",
        "  print(pred)"
      ],
      "metadata": {
        "colab": {
          "base_uri": "https://localhost:8080/"
        },
        "id": "vZvw7UpDodT9",
        "outputId": "76b0e7ad-d600-4664-874f-f79a8891ba2e"
      },
      "execution_count": 44,
      "outputs": [
        {
          "output_type": "stream",
          "name": "stdout",
          "text": [
            "1.0\n",
            "['C+' 'B' 'A']\n",
            "0.9122807017543859\n",
            "['C+' 'B' 'A']\n",
            "0.8947368421052632\n",
            "['C+' 'B' 'B+']\n",
            "0.8245614035087719\n",
            "['C+' 'B' 'B+']\n"
          ]
        }
      ]
    }
  ]
}
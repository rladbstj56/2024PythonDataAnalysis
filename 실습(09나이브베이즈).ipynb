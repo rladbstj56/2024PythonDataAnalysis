{
  "nbformat": 4,
  "nbformat_minor": 0,
  "metadata": {
    "colab": {
      "provenance": [],
      "mount_file_id": "1b64D7JuvFwaPmnsFNUr-kYtJfbsca3O6",
      "authorship_tag": "ABX9TyOcdbrRCfxbGulAF4W4aVyO",
      "include_colab_link": true
    },
    "kernelspec": {
      "name": "python3",
      "display_name": "Python 3"
    },
    "language_info": {
      "name": "python"
    }
  },
  "cells": [
    {
      "cell_type": "markdown",
      "metadata": {
        "id": "view-in-github",
        "colab_type": "text"
      },
      "source": [
        "<a href=\"https://colab.research.google.com/github/rladbstj56/2024PythonDataAnalysis/blob/main/%EC%8B%A4%EC%8A%B5(09%EB%82%98%EC%9D%B4%EB%B8%8C%EB%B2%A0%EC%9D%B4%EC%A6%88).ipynb\" target=\"_parent\"><img src=\"https://colab.research.google.com/assets/colab-badge.svg\" alt=\"Open In Colab\"/></a>"
      ]
    },
    {
      "cell_type": "code",
      "execution_count": 1,
      "metadata": {
        "id": "CdRfevAWA3G0",
        "colab": {
          "base_uri": "https://localhost:8080/"
        },
        "outputId": "628b2317-abe7-4e9b-fea6-8c4491358f04"
      },
      "outputs": [
        {
          "output_type": "stream",
          "name": "stdout",
          "text": [
            "  day   outlook  temp humidity    wind play\n",
            "0  D1     Sunny   Hot     High    Weak   No\n",
            "1  D2     Sunny   Hot     High  Strong   No\n",
            "2  D3  Overcast   Hot     High    Weak  Yes\n",
            "3  D4      Rain  Mild     High    Weak  Yes\n",
            "4  D5      Rain  Cool   Normal    Weak  Yes\n",
            "<class 'pandas.core.frame.DataFrame'>\n",
            "RangeIndex: 14 entries, 0 to 13\n",
            "Data columns (total 6 columns):\n",
            " #   Column    Non-Null Count  Dtype \n",
            "---  ------    --------------  ----- \n",
            " 0   day       14 non-null     object\n",
            " 1   outlook   14 non-null     object\n",
            " 2   temp      14 non-null     object\n",
            " 3   humidity  14 non-null     object\n",
            " 4   wind      14 non-null     object\n",
            " 5   play      14 non-null     object\n",
            "dtypes: object(6)\n",
            "memory usage: 800.0+ bytes\n",
            "None\n"
          ]
        }
      ],
      "source": [
        "import pandas as pd\n",
        "from sklearn.naive_bayes import GaussianNB\n",
        "from sklearn.metrics import accuracy_score\n",
        "from sklearn.preprocessing import LabelEncoder\n",
        "from sklearn.model_selection import train_test_split\n",
        "game = pd.read_csv('/content/drive/MyDrive/pythondataanalysis/play_tennis.csv')\n",
        "print(game.head())\n",
        "print(game.info())"
      ]
    },
    {
      "cell_type": "code",
      "source": [
        "lb = LabelEncoder()\n",
        "game['day'] = lb.fit_transform(game['day'])\n",
        "game['outlook'] = lb.fit_transform(game['outlook'])\n",
        "game['temp'] = lb.fit_transform(game['temp'])\n",
        "game['humidity'] = lb.fit_transform(game['humidity'])\n",
        "game['wind'] = lb.fit_transform(game['wind'])\n",
        "game['play'] = lb.fit_transform(game['play'])\n",
        "print(game.head())"
      ],
      "metadata": {
        "colab": {
          "base_uri": "https://localhost:8080/"
        },
        "id": "0Q1Ti3XvyjkT",
        "outputId": "6d82c285-db15-40ae-b6ee-4de291896d1c"
      },
      "execution_count": 3,
      "outputs": [
        {
          "output_type": "stream",
          "name": "stdout",
          "text": [
            "   day  outlook  temp  humidity  wind  play\n",
            "0    0        2     1         0     1     0\n",
            "1    6        2     1         0     0     0\n",
            "2    7        0     1         0     1     1\n",
            "3    8        1     2         0     1     1\n",
            "4    9        1     0         1     1     1\n"
          ]
        }
      ]
    },
    {
      "cell_type": "code",
      "source": [
        "x = game[['outlook','wind']]\n",
        "y = game[['play']]\n",
        "x_train,x_test,y_train,y_test = train_test_split(x,y,test_size=0.3,random_state=42)\n",
        "model = GaussianNB()\n",
        "model.fit(x_train,y_train)\n",
        "y_pred = model.predict(x_test)\n",
        "print('score',accuracy_score(y_test,y_pred))\n",
        "data = pd.DataFrame([1])\n",
        "print(model.predict([[1,1]])) # rain, weak"
      ],
      "metadata": {
        "colab": {
          "base_uri": "https://localhost:8080/"
        },
        "id": "UOxLz-ONy93q",
        "outputId": "acb81cb4-c82a-47ea-dafe-6e20f6d28a94"
      },
      "execution_count": 4,
      "outputs": [
        {
          "output_type": "stream",
          "name": "stdout",
          "text": [
            "score 0.6\n",
            "[1]\n"
          ]
        },
        {
          "output_type": "stream",
          "name": "stderr",
          "text": [
            "/usr/local/lib/python3.10/dist-packages/sklearn/utils/validation.py:1339: DataConversionWarning: A column-vector y was passed when a 1d array was expected. Please change the shape of y to (n_samples, ), for example using ravel().\n",
            "  y = column_or_1d(y, warn=True)\n",
            "/usr/local/lib/python3.10/dist-packages/sklearn/base.py:493: UserWarning: X does not have valid feature names, but GaussianNB was fitted with feature names\n",
            "  warnings.warn(\n"
          ]
        }
      ]
    },
    {
      "cell_type": "code",
      "source": [
        "x = game[['wind','humidity']]\n",
        "y = game[['play']]\n",
        "x_train,x_test,y_train,y_test = train_test_split(x,y,test_size=0.3,random_state=42)\n",
        "model = GaussianNB()\n",
        "model.fit(x_train,y_train)\n",
        "y_pred = model.predict(x_test)\n",
        "print('score',accuracy_score(y_test,y_pred))\n",
        "data = pd.DataFrame([1])\n",
        "print(model.predict([[0,1]])) # strong, normal"
      ],
      "metadata": {
        "colab": {
          "base_uri": "https://localhost:8080/"
        },
        "id": "FQeL_cCp0PmI",
        "outputId": "aaaa0b9d-dc58-4477-8f02-31cae4085219"
      },
      "execution_count": 5,
      "outputs": [
        {
          "output_type": "stream",
          "name": "stdout",
          "text": [
            "score 0.6\n",
            "[1]\n"
          ]
        },
        {
          "output_type": "stream",
          "name": "stderr",
          "text": [
            "/usr/local/lib/python3.10/dist-packages/sklearn/utils/validation.py:1339: DataConversionWarning: A column-vector y was passed when a 1d array was expected. Please change the shape of y to (n_samples, ), for example using ravel().\n",
            "  y = column_or_1d(y, warn=True)\n",
            "/usr/local/lib/python3.10/dist-packages/sklearn/base.py:493: UserWarning: X does not have valid feature names, but GaussianNB was fitted with feature names\n",
            "  warnings.warn(\n"
          ]
        }
      ]
    }
  ]
}
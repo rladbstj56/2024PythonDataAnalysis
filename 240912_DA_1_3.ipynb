{
  "nbformat": 4,
  "nbformat_minor": 0,
  "metadata": {
    "colab": {
      "provenance": []
    },
    "kernelspec": {
      "name": "python3",
      "display_name": "Python 3"
    },
    "language_info": {
      "name": "python"
    }
  },
  "cells": [
    {
      "cell_type": "code",
      "execution_count": null,
      "metadata": {
        "id": "7utzYbMtrjHo",
        "colab": {
          "base_uri": "https://localhost:8080/"
        },
        "outputId": "4881d68d-3dcc-4234-c642-9002b4d3e608"
      },
      "outputs": [
        {
          "output_type": "stream",
          "name": "stdout",
          "text": [
            "['o', 'u', 'e']\n",
            "['o']\n",
            "[]\n",
            "['o', 'o', 'u']\n"
          ]
        }
      ],
      "source": [
        "s = ['computer', 'python', 'sbs', 'sookmyung']\n",
        "\n",
        "def vowel(w):\n",
        "  for alp in w:\n",
        "    if (alp=='a' or alp=='e' or alp=='i' or alp=='o' or alp=='u' ):\n",
        "       yield alp\n",
        "\n",
        "for word in s:\n",
        "  result = []\n",
        "  for v in vowel(word):\n",
        "    result.append(v)\n",
        "  print(result)\n"
      ]
    }
  ]
}
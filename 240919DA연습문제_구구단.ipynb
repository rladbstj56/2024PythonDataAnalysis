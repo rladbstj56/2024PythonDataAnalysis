{
  "nbformat": 4,
  "nbformat_minor": 0,
  "metadata": {
    "colab": {
      "provenance": [],
      "authorship_tag": "ABX9TyOXRiuImMRuWx53mNgLytR4",
      "include_colab_link": true
    },
    "kernelspec": {
      "name": "python3",
      "display_name": "Python 3"
    },
    "language_info": {
      "name": "python"
    }
  },
  "cells": [
    {
      "cell_type": "markdown",
      "metadata": {
        "id": "view-in-github",
        "colab_type": "text"
      },
      "source": [
        "<a href=\"https://colab.research.google.com/github/rladbstj56/2024PythonDataAnalysis/blob/main/240919DA%EC%97%B0%EC%8A%B5%EB%AC%B8%EC%A0%9C_%EA%B5%AC%EA%B5%AC%EB%8B%A8.ipynb\" target=\"_parent\"><img src=\"https://colab.research.google.com/assets/colab-badge.svg\" alt=\"Open In Colab\"/></a>"
      ]
    },
    {
      "cell_type": "code",
      "execution_count": 12,
      "metadata": {
        "colab": {
          "base_uri": "https://localhost:8080/"
        },
        "id": "n2dCO5hNtjWi",
        "outputId": "45005031-4202-49f5-9444-c0f1c124771f"
      },
      "outputs": [
        {
          "output_type": "stream",
          "name": "stdout",
          "text": [
            "[[ 1  2  3  4  5  6  7  8  9]\n",
            " [ 2  4  6  8 10 12 14 16 18]\n",
            " [ 3  6  9 12 15 18 21 24 27]\n",
            " [ 4  8 12 16 20 24 28 32 36]\n",
            " [ 5 10 15 20 25 30 35 40 45]\n",
            " [ 6 12 18 24 30 36 42 48 54]\n",
            " [ 7 14 21 28 35 42 49 56 63]\n",
            " [ 8 16 24 32 40 48 56 64 72]\n",
            " [ 9 18 27 36 45 54 63 72 81]]\n",
            "1단     2단      3단     \n",
            "1x1=1 2x1=2 3x1=3  \n",
            "1x2=2 2x2=4 3x2=6  \n",
            "1x3=3 2x3=6 3x3=9  \n",
            "1x4=4 2x4=8 3x4=12  \n",
            "1x5=5 2x5=10 3x5=15  \n",
            "1x6=6 2x6=12 3x6=18  \n",
            "1x7=7 2x7=14 3x7=21  \n",
            "1x8=8 2x8=16 3x8=24  \n",
            "1x9=9 2x9=18 3x9=27  \n",
            "\n",
            "\n",
            "4단     5단      6단     \n",
            "4x1=4 5x1=5 6x1=6  \n",
            "4x2=8 5x2=10 6x2=12  \n",
            "4x3=12 5x3=15 6x3=18  \n",
            "4x4=16 5x4=20 6x4=24  \n",
            "4x5=20 5x5=25 6x5=30  \n",
            "4x6=24 5x6=30 6x6=36  \n",
            "4x7=28 5x7=35 6x7=42  \n",
            "4x8=32 5x8=40 6x8=48  \n",
            "4x9=36 5x9=45 6x9=54  \n",
            "\n",
            "\n",
            "7단     8단      9단     \n",
            "7x1=7 8x1=8 9x1=9  \n",
            "7x2=14 8x2=16 9x2=18  \n",
            "7x3=21 8x3=24 9x3=27  \n",
            "7x4=28 8x4=32 9x4=36  \n",
            "7x5=35 8x5=40 9x5=45  \n",
            "7x6=42 8x6=48 9x6=54  \n",
            "7x7=49 8x7=56 9x7=63  \n",
            "7x8=56 8x8=64 9x8=72  \n",
            "7x9=63 8x9=72 9x9=81  \n",
            "\n",
            "\n"
          ]
        }
      ],
      "source": [
        "import numpy as np\n",
        "first = np.arange(1,10) # 1~9 정수\n",
        "second = np.arange(1,10).reshape(9,1) # 1~9 정수 list 생성하여 9행 1열 배열로 변환\n",
        "\n",
        "result = first*second\n",
        "print(result)\n",
        "\n",
        "i=0\n",
        "while i<first.size:\n",
        "  print(str(first[i])+\"단     \"+ str(first[i+1])+\"단      \"+ str(first[i+2])+\"단     \")\n",
        "  for j in range(0,second.size):\n",
        "    print(str(first[i])+ \"x\"+str(second[j][0])+ \"=\"+ str(result[i][j])+ \" \"+ str(first[i+1])+ \"x\"+ str(second[j][0])+ \"=\"+ str(result[i+1][j])+ \" \"+ str(first[i+2])+ \"x\"+ str(second[j][0])+ \"=\"+ str(result[i+2][j])+\"  \")\n",
        "  i+=3\n",
        "  print(\"\\n\")"
      ]
    }
  ]
}
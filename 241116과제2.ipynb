{
  "nbformat": 4,
  "nbformat_minor": 0,
  "metadata": {
    "colab": {
      "provenance": [],
      "mount_file_id": "1eZk48norMvLmJBTnVS9H-ZBCAFDlLz15",
      "authorship_tag": "ABX9TyNdmZJIPtJGbMeVMjYwBKv9",
      "include_colab_link": true
    },
    "kernelspec": {
      "name": "python3",
      "display_name": "Python 3"
    },
    "language_info": {
      "name": "python"
    }
  },
  "cells": [
    {
      "cell_type": "markdown",
      "metadata": {
        "id": "view-in-github",
        "colab_type": "text"
      },
      "source": [
        "<a href=\"https://colab.research.google.com/github/rladbstj56/2024_PythonDataAnalysis/blob/main/241116%EA%B3%BC%EC%A0%9C2.ipynb\" target=\"_parent\"><img src=\"https://colab.research.google.com/assets/colab-badge.svg\" alt=\"Open In Colab\"/></a>"
      ]
    },
    {
      "cell_type": "code",
      "execution_count": 1,
      "metadata": {
        "colab": {
          "base_uri": "https://localhost:8080/"
        },
        "id": "q-xJVHlPPefX",
        "outputId": "7d85af66-30f6-49f9-e9d3-43f872a08f4d"
      },
      "outputs": [
        {
          "output_type": "stream",
          "name": "stdout",
          "text": [
            "   Unnamed: 0        id  age        Dept location education  \\\n",
            "0           0    HR8270   28          HR   Suburb        PG   \n",
            "1           1  TECH1860   50  Technology   Suburb        PG   \n",
            "2           2  TECH6390   43  Technology   Suburb        UG   \n",
            "3           3   SAL6191   44       Sales     City        PG   \n",
            "4           4    HR6734   33          HR     City        UG   \n",
            "\n",
            "     recruitment_type  job_level  rating  onsite  awards  certifications  \\\n",
            "0            Referral          5       2       0       1               0   \n",
            "1             Walk-in          3       5       1       2               1   \n",
            "2            Referral          4       1       0       2               0   \n",
            "3           On-Campus          2       3       1       0               0   \n",
            "4  Recruitment Agency          2       1       0       5               0   \n",
            "\n",
            "   salary  satisfied  \n",
            "0   86750          1  \n",
            "1   42419          0  \n",
            "2   65715          0  \n",
            "3   29805          1  \n",
            "4   29805          1  \n",
            "   Unnamed: 0  age        Dept location education    recruitment_type  \\\n",
            "0           0   28          HR   Suburb        PG            Referral   \n",
            "1           1   50  Technology   Suburb        PG             Walk-in   \n",
            "2           2   43  Technology   Suburb        UG            Referral   \n",
            "3           3   44       Sales     City        PG           On-Campus   \n",
            "4           4   33          HR     City        UG  Recruitment Agency   \n",
            "\n",
            "   job_level  rating  onsite  awards  certifications  salary  satisfied  \n",
            "0          5       2       0       1               0   86750          1  \n",
            "1          3       5       1       2               1   42419          0  \n",
            "2          4       1       0       2               0   65715          0  \n",
            "3          2       3       1       0               0   29805          1  \n",
            "4          2       1       0       5               0   29805          1  \n"
          ]
        }
      ],
      "source": [
        "import pandas as pd\n",
        "import matplotlib.pyplot as plt\n",
        "from sklearn.model_selection import train_test_split\n",
        "import numpy as np\n",
        "\n",
        "hw = pd.read_csv('/content/drive/MyDrive/pythondataanalysis/hw_data2.csv')\n",
        "print(hw.head())\n",
        "hw = hw.drop('id',axis = 1, inplace = False)\n",
        "print(hw.head())"
      ]
    },
    {
      "cell_type": "code",
      "source": [
        "x = hw.drop('satisfied', axis=1, inplace=False)\n",
        "y = hw['satisfied']"
      ],
      "metadata": {
        "id": "aVU7GqVeRKO3"
      },
      "execution_count": 7,
      "outputs": []
    },
    {
      "cell_type": "code",
      "source": [
        "x.info()\n",
        "y.info()"
      ],
      "metadata": {
        "colab": {
          "base_uri": "https://localhost:8080/"
        },
        "id": "IB5FpirIUDSK",
        "outputId": "c75d4088-48bc-43d0-b095-2c1efbbf7145"
      },
      "execution_count": 8,
      "outputs": [
        {
          "output_type": "stream",
          "name": "stdout",
          "text": [
            "<class 'pandas.core.frame.DataFrame'>\n",
            "RangeIndex: 500 entries, 0 to 499\n",
            "Data columns (total 12 columns):\n",
            " #   Column            Non-Null Count  Dtype \n",
            "---  ------            --------------  ----- \n",
            " 0   Unnamed: 0        500 non-null    int64 \n",
            " 1   age               500 non-null    int64 \n",
            " 2   Dept              500 non-null    object\n",
            " 3   location          500 non-null    object\n",
            " 4   education         500 non-null    object\n",
            " 5   recruitment_type  500 non-null    object\n",
            " 6   job_level         500 non-null    int64 \n",
            " 7   rating            500 non-null    int64 \n",
            " 8   onsite            500 non-null    int64 \n",
            " 9   awards            500 non-null    int64 \n",
            " 10  certifications    500 non-null    int64 \n",
            " 11  salary            500 non-null    int64 \n",
            "dtypes: int64(8), object(4)\n",
            "memory usage: 47.0+ KB\n",
            "<class 'pandas.core.series.Series'>\n",
            "RangeIndex: 500 entries, 0 to 499\n",
            "Series name: satisfied\n",
            "Non-Null Count  Dtype\n",
            "--------------  -----\n",
            "500 non-null    int64\n",
            "dtypes: int64(1)\n",
            "memory usage: 4.0 KB\n"
          ]
        }
      ]
    },
    {
      "cell_type": "code",
      "source": [
        "from sklearn import preprocessing\n",
        "from sklearn.preprocessing import StandardScaler\n",
        "from sklearn.neighbors import KNeighborsClassifier\n",
        "from sklearn.metrics import accuracy_score\n",
        "label_encoder = preprocessing.LabelEncoder()\n",
        "for feature in ['Dept','location','education','recruitment_type']:\n",
        "  x[feature] = label_encoder.fit_transform(x[feature])\n",
        "  print(label_encoder.classes_)\n",
        "x_train,x_test,y_train,y_test = train_test_split(x,y,test_size = 0.2,random_state = 42)"
      ],
      "metadata": {
        "colab": {
          "base_uri": "https://localhost:8080/"
        },
        "id": "jfNTPm9LSsR0",
        "outputId": "ff9bc445-aa68-4851-b44e-96ea59746b49"
      },
      "execution_count": 9,
      "outputs": [
        {
          "output_type": "stream",
          "name": "stdout",
          "text": [
            "['HR' 'Marketing' 'Purchasing' 'Sales' 'Technology']\n",
            "['City' 'Suburb']\n",
            "['PG' 'UG']\n",
            "['On-Campus' 'Recruitment Agency' 'Referral' 'Walk-in']\n"
          ]
        }
      ]
    },
    {
      "cell_type": "code",
      "source": [
        "scaler = StandardScaler()\n",
        "x_train_std = scaler.fit_transform(x_train)\n",
        "x_test_std = scaler.fit_transform(x_test)\n",
        "print(x_train_std)\n",
        "print(x_test_std)"
      ],
      "metadata": {
        "colab": {
          "base_uri": "https://localhost:8080/"
        },
        "id": "uGXSLUjQUhcQ",
        "outputId": "a6f417d5-c9c8-49a4-e89d-f474727563eb"
      },
      "execution_count": 10,
      "outputs": [
        {
          "output_type": "stream",
          "name": "stdout",
          "text": [
            "[[ 0.00692641  0.90174776 -1.40282371 ...  1.5252376  -1.00501256\n",
            "  -0.3753595 ]\n",
            " [ 1.31742529  1.64721387  0.01238306 ... -1.59102537  0.99501244\n",
            "   0.60624186]\n",
            " [-1.63119718 -1.44114574  0.71998644 ... -0.20601961 -1.00501256\n",
            "   1.49257361]\n",
            " ...\n",
            " [ 0.71203178  0.68875744  1.42758983 ... -0.55227105 -1.00501256\n",
            "  -0.90686359]\n",
            " [ 1.33166984 -0.26969899  0.71998644 ...  1.17898616  0.99501244\n",
            "   0.60624186]\n",
            " [-1.04004823 -1.12166026  0.01238306 ...  0.14023183 -1.00501256\n",
            "   1.49257361]]\n",
            "[[ 0.66436972 -1.45336607 -1.32093365 ...  1.37576472 -0.94169658\n",
            "  -0.98907752]\n",
            " [-1.14737613  0.32157812 -0.61830937 ... -0.86125108 -0.94169658\n",
            "  -0.18967214]\n",
            " [ 0.74614991 -1.55777455  0.7869392  ... -0.86125108  1.06191317\n",
            "  -0.18967214]\n",
            " ...\n",
            " [-1.13479456 -0.51368973 -0.61830937 ... -1.60692302  1.06191317\n",
            "   1.74231499]\n",
            " [ 1.1487601  -0.30487277 -0.61830937 ...  0.25725682 -0.94169658\n",
            "  -0.98907752]\n",
            " [-1.51224161  1.15684598  0.08431491 ...  0.63009278 -0.94169658\n",
            "   1.74231499]]\n"
          ]
        }
      ]
    },
    {
      "cell_type": "code",
      "source": [
        "train_accuracy = []\n",
        "test_accuracy = []\n",
        "neighbors = range(1,20)\n",
        "for k in neighbors:\n",
        "  knn = KNeighborsClassifier(n_neighbors = k)\n",
        "  knn.fit(x_train_std,y_train)\n",
        "  score = knn.score(x_train_std,y_train)\n",
        "  train_accuracy.append(score)\n",
        "  score = knn.score(x_test_std,y_test)\n",
        "  test_accuracy.append(score)\n",
        "plt.plot(neighbors,train_accuracy,label='train')\n",
        "plt.plot(neighbors,test_accuracy,label='test')\n",
        "plt.xlabel('k')\n",
        "plt.ylabel('Accuracy')\n",
        "plt.legend()\n",
        "plt.show() # k = 3 or 14"
      ],
      "metadata": {
        "colab": {
          "base_uri": "https://localhost:8080/",
          "height": 449
        },
        "id": "c439s_BBXA-y",
        "outputId": "cd13e9e9-ac68-404f-9bc5-9617d7b48e67"
      },
      "execution_count": 11,
      "outputs": [
        {
          "output_type": "display_data",
          "data": {
            "text/plain": [
              "<Figure size 640x480 with 1 Axes>"
            ],
            "image/png": "[encoded data removed]"
          },
          "metadata": {}
        }
      ]
    },
    {
      "cell_type": "code",
      "source": [
        "k = 3 # 최적 k\n",
        "knn = KNeighborsClassifier(n_neighbors = k)\n",
        "knn.fit(x_train_std,y_train)\n",
        "y_pred = knn.predict(x_test_std)\n",
        "print(y_pred)"
      ],
      "metadata": {
        "colab": {
          "base_uri": "https://localhost:8080/"
        },
        "id": "fMhvm2JbqgwZ",
        "outputId": "04f2ea08-3f14-428a-cf90-c73f1629e2de"
      },
      "execution_count": 12,
      "outputs": [
        {
          "output_type": "stream",
          "name": "stdout",
          "text": [
            "[1 1 0 0 1 1 1 1 1 1 0 1 1 1 0 0 0 1 1 1 0 1 0 0 0 0 1 1 1 0 1 1 1 0 0 1 0\n",
            " 0 0 0 1 1 0 1 0 1 1 0 0 1 0 0 0 1 1 1 0 1 1 1 0 1 0 1 0 1 1 1 1 0 1 1 0 0\n",
            " 0 0 0 1 0 1 1 1 0 1 1 0 0 1 1 1 1 1 1 1 1 1 1 0 0 1]\n"
          ]
        }
      ]
    },
    {
      "cell_type": "code",
      "source": [
        "from sklearn.metrics import confusion_matrix\n",
        "\n",
        "cf = confusion_matrix(y_test,y_pred)\n",
        "print(cf)\n",
        "print(knn.score(x_test_std,y_test))\n",
        "y_pred = knn.predict(x_test_std)\n",
        "print('score',accuracy_score(y_test,y_pred))"
      ],
      "metadata": {
        "colab": {
          "base_uri": "https://localhost:8080/"
        },
        "id": "NZz2ondqsh-1",
        "outputId": "6d2f7628-b8bd-405a-a585-924c89f87b0e"
      },
      "execution_count": 13,
      "outputs": [
        {
          "output_type": "stream",
          "name": "stdout",
          "text": [
            "[[26 21]\n",
            " [15 38]]\n",
            "0.64\n",
            "score 0.64\n"
          ]
        }
      ]
    },
    {
      "cell_type": "code",
      "source": [
        "from sklearn.naive_bayes import GaussianNB\n",
        "model = GaussianNB()\n",
        "model.fit(x_train,y_train)\n",
        "y_pred = model.predict(x_test)\n",
        "cf = confusion_matrix(y_test,y_pred)\n",
        "print(cf)\n",
        "print(model.score(x_test,y_test))"
      ],
      "metadata": {
        "colab": {
          "base_uri": "https://localhost:8080/"
        },
        "id": "FvpzZ2Q-uBYY",
        "outputId": "80450404-243d-473f-d4b4-823a332a7508"
      },
      "execution_count": 14,
      "outputs": [
        {
          "output_type": "stream",
          "name": "stdout",
          "text": [
            "[[19 28]\n",
            " [20 33]]\n",
            "0.52\n"
          ]
        }
      ]
    },
    {
      "cell_type": "code",
      "source": [
        "model.fit(x_train_std,y_train)\n",
        "y_pred = model.predict(x_test_std)\n",
        "cf = confusion_matrix(y_test,y_pred)\n",
        "print(cf)\n",
        "print(model.score(x_test_std,y_test))"
      ],
      "metadata": {
        "id": "BivwfRepw0KE",
        "outputId": "04ea44e4-1792-458b-8f54-70c4821eb6aa",
        "colab": {
          "base_uri": "https://localhost:8080/"
        }
      },
      "execution_count": 15,
      "outputs": [
        {
          "output_type": "stream",
          "name": "stdout",
          "text": [
            "[[18 29]\n",
            " [21 32]]\n",
            "0.5\n"
          ]
        }
      ]
    }
  ]
}
{
  "nbformat": 4,
  "nbformat_minor": 0,
  "metadata": {
    "colab": {
      "provenance": [],
      "authorship_tag": "ABX9TyOtFw1OjCpZ3iuQnOQlEHiR",
      "include_colab_link": true
    },
    "kernelspec": {
      "name": "python3",
      "display_name": "Python 3"
    },
    "language_info": {
      "name": "python"
    }
  },
  "cells": [
    {
      "cell_type": "markdown",
      "metadata": {
        "id": "view-in-github",
        "colab_type": "text"
      },
      "source": [
        "<a href=\"https://colab.research.google.com/github/rladbstj56/2024_PythonDataAnalysis/blob/main/241128_%ED%85%8D%EC%8A%A4%ED%8A%B8%EB%A7%88%EC%9D%B4%EB%8B%9D.ipynb\" target=\"_parent\"><img src=\"https://colab.research.google.com/assets/colab-badge.svg\" alt=\"Open In Colab\"/></a>"
      ]
    },
    {
      "cell_type": "code",
      "execution_count": 13,
      "metadata": {
        "colab": {
          "base_uri": "https://localhost:8080/"
        },
        "id": "HY29OUrkF5rq",
        "outputId": "b9b65853-9e88-451a-c18e-3e860af4bc32"
      },
      "outputs": [
        {
          "output_type": "stream",
          "name": "stdout",
          "text": [
            "\r0% [Working]\r            \rGet:1 http://security.ubuntu.com/ubuntu jammy-security InRelease [129 kB]\n",
            "\r0% [Connecting to archive.ubuntu.com (185.125.190.81)] [1 InRelease 14.2 kB/129 kB 11%] [Connected t\r                                                                                                    \rHit:2 https://cloud.r-project.org/bin/linux/ubuntu jammy-cran40/ InRelease\n",
            "\r0% [Waiting for headers] [1 InRelease 70.6 kB/129 kB 55%] [Connected to r2u.stat.illinois.edu (192.1\r0% [Waiting for headers] [Waiting for headers] [Waiting for headers] [Connected to ppa.launchpadcont\r                                                                                                    \rHit:3 https://developer.download.nvidia.com/compute/cuda/repos/ubuntu2204/x86_64  InRelease\n",
            "\r0% [Waiting for headers] [Waiting for headers] [Connected to ppa.launchpadcontent.net (185.125.190.8\r                                                                                                    \rHit:4 http://archive.ubuntu.com/ubuntu jammy InRelease\n",
            "\r0% [Waiting for headers] [Waiting for headers] [Connected to ppa.launchpadcontent.net (185.125.190.8\r                                                                                                    \rHit:5 https://r2u.stat.illinois.edu/ubuntu jammy InRelease\n",
            "Get:6 http://archive.ubuntu.com/ubuntu jammy-updates InRelease [128 kB]\n",
            "Hit:7 https://ppa.launchpadcontent.net/deadsnakes/ppa/ubuntu jammy InRelease\n",
            "Hit:8 https://ppa.launchpadcontent.net/graphics-drivers/ppa/ubuntu jammy InRelease\n",
            "Hit:9 https://ppa.launchpadcontent.net/ubuntugis/ppa/ubuntu jammy InRelease\n",
            "Hit:10 http://archive.ubuntu.com/ubuntu jammy-backports InRelease\n",
            "Fetched 257 kB in 1s (174 kB/s)\n",
            "Reading package lists... Done\n",
            "W: Skipping acquire of configured file 'main/source/Sources' as repository 'https://r2u.stat.illinois.edu/ubuntu jammy InRelease' does not seem to provide it (sources.list entry misspelt?)\n",
            "Reading package lists... Done\n",
            "Building dependency tree... Done\n",
            "Reading state information... Done\n",
            "g++ is already the newest version (4:11.2.0-1ubuntu1).\n",
            "openjdk-8-jdk is already the newest version (8u432-ga~us1-0ubuntu2~22.04).\n",
            "0 upgraded, 0 newly installed, 0 to remove and 53 not upgraded.\n",
            "Requirement already satisfied: konlpy in /usr/local/lib/python3.10/dist-packages (0.6.0)\n",
            "Requirement already satisfied: JPype1-py3 in /usr/local/lib/python3.10/dist-packages (0.5.5.4)\n",
            "Requirement already satisfied: JPype1>=0.7.0 in /usr/local/lib/python3.10/dist-packages (from konlpy) (1.5.1)\n",
            "Requirement already satisfied: lxml>=4.1.0 in /usr/local/lib/python3.10/dist-packages (from konlpy) (5.3.0)\n",
            "Requirement already satisfied: numpy>=1.6 in /usr/local/lib/python3.10/dist-packages (from konlpy) (1.26.4)\n",
            "Requirement already satisfied: packaging in /usr/local/lib/python3.10/dist-packages (from JPype1>=0.7.0->konlpy) (24.2)\n",
            "mecab-ko is already installed\n",
            "mecab-ko-dic is already installed\n",
            "Install mecab-python\n",
            "/tmp /content\n",
            "/content\n",
            "Processing /tmp/mecab-python-0.996\n",
            "  \u001b[1;31merror\u001b[0m: \u001b[1msubprocess-exited-with-error\u001b[0m\n",
            "  \n",
            "  \u001b[31m×\u001b[0m \u001b[32mpython setup.py egg_info\u001b[0m did not run successfully.\n",
            "  \u001b[31m│\u001b[0m exit code: \u001b[1;36m1\u001b[0m\n",
            "  \u001b[31m╰─>\u001b[0m See above for output.\n",
            "  \n",
            "  \u001b[1;35mnote\u001b[0m: This error originates from a subprocess, and is likely not a problem with pip.\n",
            "  Preparing metadata (setup.py) ... \u001b[?25l\u001b[?25herror\n",
            "\u001b[1;31merror\u001b[0m: \u001b[1mmetadata-generation-failed\u001b[0m\n",
            "\n",
            "\u001b[31m×\u001b[0m Encountered error while generating package metadata.\n",
            "\u001b[31m╰─>\u001b[0m See above for output.\n",
            "\n",
            "\u001b[1;35mnote\u001b[0m: This is an issue with the package mentioned above, not pip.\n",
            "\u001b[1;36mhint\u001b[0m: See above for details.\n"
          ]
        }
      ],
      "source": [
        "# koNLPy 설치\n",
        "!apt-get update\n",
        "!apt-get install g++ openjdk-8-jdk\n",
        "!pip3 install konlpy JPype1-py3\n",
        "!bash <(curl -s https://raw.githubusercontent.com/konlpy/konlpy/master/scripts/mecab.sh)"
      ]
    },
    {
      "cell_type": "code",
      "source": [
        "from konlpy.tag import *\n",
        "from konlpy.corpus import kolaw\n",
        "kolaw.fileids()\n",
        "cons = kolaw.open('constitution.txt').read()\n",
        "size = 50\n",
        "print(cons[:size])"
      ],
      "metadata": {
        "colab": {
          "base_uri": "https://localhost:8080/"
        },
        "id": "I4QAOUNUQqO3",
        "outputId": "323a9664-1d68-419c-d595-535601ebe705"
      },
      "execution_count": 14,
      "outputs": [
        {
          "output_type": "stream",
          "name": "stdout",
          "text": [
            "대한민국헌법\n",
            "\n",
            "유구한 역사와 전통에 빛나는 우리 대한국민은 3·1운동으로 건립된 대한민국임\n"
          ]
        }
      ]
    },
    {
      "cell_type": "code",
      "source": [
        "from konlpy.corpus import kobill\n",
        "kobill.fileids()\n",
        "cons = kobill.open('1809890.txt').read()\n",
        "size = 50\n",
        "print(cons[:size])"
      ],
      "metadata": {
        "colab": {
          "base_uri": "https://localhost:8080/"
        },
        "id": "e2C4nY5WRlei",
        "outputId": "f69549ab-f7f9-4668-c9d3-cda374ec5209"
      },
      "execution_count": 15,
      "outputs": [
        {
          "output_type": "stream",
          "name": "stdout",
          "text": [
            "지방공무원법 일부개정법률안\n",
            "\n",
            "(정의화의원 대표발의 )\n",
            "\n",
            " 의 안\n",
            " 번 호\n",
            "\n",
            "9890\n",
            "\n",
            "발의\n"
          ]
        }
      ]
    },
    {
      "cell_type": "code",
      "source": [
        "# 명사 추출\n",
        "okt = Okt()\n",
        "print(okt.nouns(cons[:size]))\n",
        "hannanum = Hannanum()\n",
        "print(hannanum.nouns(cons[:size]))\n",
        "komoran = Komoran()\n",
        "print(komoran.nouns(\"\\n\".join([s for s in cons[:size].split(\"\\n\") if s])))\n",
        "kkma = Kkma()\n",
        "kkma.nouns(cons[:size])"
      ],
      "metadata": {
        "colab": {
          "base_uri": "https://localhost:8080/"
        },
        "id": "eytPHvWdSU0C",
        "outputId": "e168c6e4-6968-4eb8-a71a-3e4e9ce0f22a"
      },
      "execution_count": 16,
      "outputs": [
        {
          "output_type": "stream",
          "name": "stdout",
          "text": [
            "['지방공무원법', '일부', '개정', '법률', '안', '정의화', '의원', '대표', '발의', '의', '안', '번', '호', '발의']\n",
            "['지방공무원법', '일부개정법률안', '정의화의원', '대표발', '의', '번', '9890', '발의']\n",
            "['지방', '공무원법', '일부', '개정', '법률', '안', '정의화', '의원', '대표', '발', '의', '번', '호', '발']\n"
          ]
        },
        {
          "output_type": "execute_result",
          "data": {
            "text/plain": [
              "['지방',\n",
              " '지방공무원법',\n",
              " '공무원',\n",
              " '법',\n",
              " '일부',\n",
              " '일부개정법률안',\n",
              " '개정',\n",
              " '법률안',\n",
              " '정의',\n",
              " '정의화의원',\n",
              " '화',\n",
              " '의원',\n",
              " '대표',\n",
              " '대표발의',\n",
              " '발의',\n",
              " '의',\n",
              " '안',\n",
              " '호',\n",
              " '9890']"
            ]
          },
          "metadata": {},
          "execution_count": 16
        }
      ]
    },
    {
      "cell_type": "code",
      "source": [
        "# 형태소 추출 (morph() 이용)\n",
        "print(okt.morphs(cons[:size]))\n",
        "print(hannanum.morphs(cons[:size]))\n",
        "print(komoran.morphs(\"\\n\".join([s for s in cons[:size].split(\"\\n\") if s])))\n",
        "print(kkma.morphs(cons[:size]))"
      ],
      "metadata": {
        "colab": {
          "base_uri": "https://localhost:8080/"
        },
        "id": "vMfX8VHcSKxf",
        "outputId": "74cd7e2b-b0ec-4e41-970e-398b91bf3f1f"
      },
      "execution_count": 18,
      "outputs": [
        {
          "output_type": "stream",
          "name": "stdout",
          "text": [
            "['지방공무원법', '일부', '개정', '법률', '안', '\\n\\n', '(', '정의화', '의원', '대표', '발의', ')', '\\n\\n ', '의', '안', '\\n ', '번', '호', '\\n\\n', '9890', '\\n\\n', '발의']\n",
            "['지방공무원법', '일부개정법률안', '(', '정의화의원', '대표발', '의', ')', '의', '안', '번', '호', '9890', '발의']\n",
            "['지방', '공무원법', '일부', '개정', '법률', '안', '(', '정의화', '의원', '대표', '발', '의', ')', '의', '안', '번', '호', '9890', '발', '의']\n",
            "['지방', '공무원', '법', '일부', '개정', '법률안', '(', '정의', '화', '의원', '대표', '발의', ')', '의', '안', '벌', 'ㄴ', '호', '9890', '발의']\n"
          ]
        }
      ]
    },
    {
      "cell_type": "code",
      "source": [
        "okt.tagset"
      ],
      "metadata": {
        "colab": {
          "base_uri": "https://localhost:8080/"
        },
        "id": "LoY4l95-T0Ri",
        "outputId": "a884b4dd-1f92-4dfb-e61a-004a753f6705"
      },
      "execution_count": 19,
      "outputs": [
        {
          "output_type": "execute_result",
          "data": {
            "text/plain": [
              "{'Adjective': '형용사',\n",
              " 'Adverb': '부사',\n",
              " 'Alpha': '알파벳',\n",
              " 'Conjunction': '접속사',\n",
              " 'Determiner': '관형사',\n",
              " 'Eomi': '어미',\n",
              " 'Exclamation': '감탄사',\n",
              " 'Foreign': '외국어, 한자 및 기타기호',\n",
              " 'Hashtag': '트위터 해쉬태그',\n",
              " 'Josa': '조사',\n",
              " 'KoreanParticle': '(ex: ㅋㅋ)',\n",
              " 'Noun': '명사',\n",
              " 'Number': '숫자',\n",
              " 'PreEomi': '선어말어미',\n",
              " 'Punctuation': '구두점',\n",
              " 'ScreenName': '트위터 아이디',\n",
              " 'Suffix': '접미사',\n",
              " 'Unknown': '미등록어',\n",
              " 'Verb': '동사'}"
            ]
          },
          "metadata": {},
          "execution_count": 19
        }
      ]
    },
    {
      "cell_type": "code",
      "source": [
        "# 빈도수 출력\n",
        "import pandas as pd\n",
        "from konlpy.tag import Okt\n",
        "from collections import Counter\n",
        "from konlpy.corpus import kolaw\n",
        "print(kolaw.fileids())\n",
        "cons = kolaw.open('constitution.txt').read()\n",
        "stopword=['것','곳']\n",
        "okt = Okt()\n",
        "noun = okt.nouns(cons)\n",
        "for i, v in enumerate(noun):\n",
        "  if v in stopword: noun.pop(i)\n",
        "  # 의미가 뭐임\n",
        "  if len(v)<3: noun.pop(i)\n",
        "count = Counter(noun)\n",
        "print(len(count))\n",
        "noun_list = count.most_common(200)\n",
        "for i, v in enumerate(noun_list):\n",
        "  print(v, end=' ')\n",
        "  if (i+1) % 5==0 : print()"
      ],
      "metadata": {
        "colab": {
          "base_uri": "https://localhost:8080/"
        },
        "id": "NVpbbgb4UP2D",
        "outputId": "ddeb65aa-079a-4e60-cd40-7def80ad318e"
      },
      "execution_count": 25,
      "outputs": [
        {
          "output_type": "stream",
          "name": "stdout",
          "text": [
            "['constitution.txt']\n",
            "674\n",
            "('제', 83) ('대통령', 83) ('법률', 58) ('정', 51) ('수', 45) \n",
            "('국가', 41) ('헌법', 32) ('때', 29) ('관', 28) ('국민', 26) \n",
            "('국회', 26) ('그', 22) ('국무총리', 19) ('모든', 18) ('국회의원', 18) \n",
            "('공무원', 17) ('국무위원', 17) ('대법원', 17) ('이', 16) ('사항', 15) \n",
            "('자유', 14) ('헌법재판소', 14) ('바', 13) ('위', 13) ('선거', 12) \n",
            "('의원', 12) ('과반수', 12) ('대한민국', 11) ('권리', 11) ('의결', 11) \n",
            "('기타', 11) ('항의', 11) ('경제', 10) ('안', 10) ('안전보장', 10) \n",
            "('법원', 10) ('재판관', 10) ('의무', 9) ('노력', 9) ('정당', 9) \n",
            "('정부', 9) ('직무', 9) ('위원회', 9) ('행정각부', 9) ('요구', 8) \n",
            "('이상', 8) ('범위', 8) ('국민투표', 7) ('조약', 7) ('보장', 7) \n",
            "('대하', 7) ('형사', 7) ('재판', 7) ('보호', 7) ('및', 7) \n",
            "('거나', 7) ('조직', 7) ('탄핵', 7) ('국무회의', 7) ('대법관', 7) \n",
            "('지방자치단체', 7) ('수립', 6) ('피고인', 6) ('대한', 6) ('동의', 6) \n",
            "('제출', 6) ('권한', 6) ('응', 6) ('시행', 6) ('제정', 5) \n",
            "('지체', 5) ('경우', 5) ('집회', 5) ('출석', 5) ('공개', 5) \n",
            "('항', 5) ('예산안', 5) ('명령', 5) ('개정안', 5) ('감사원', 5) \n",
            "('개정', 4) ('수행', 4) ('정치', 4) ('장', 4) ('인정', 4) \n",
            "('등', 4) ('구속', 4) ('다만', 4) ('변호인', 4) ('구성', 4) \n",
            "('재산권', 4) ('언론', 4) ('비상계엄', 4) ('군사법원', 4) ('로부터', 4) \n",
            "('운영', 4) ('근로', 4) ('근로자', 4) ('유지', 4) ('인', 4) \n",
            "('임시회', 4) ('재적', 4) ('회계', 4) ('개시', 4) ('예산', 4) \n",
            "('설치', 4) ('국정', 4) ('관리', 4) ('위원', 4) ('중요', 4) \n",
            "('처분', 4) ('군사', 4) ('둘', 4) ('임명', 4) ('당시', 4) \n",
            "('통일', 3) ('기회', 3) ('생활', 3) ('평화', 3) ('중립성', 3) \n",
            "('체결', 3) ('목적', 3) ('민주', 3) ('발전', 3) ('사회', 3) \n",
            "('체포', 3) ('법관', 3) ('영장', 3) ('현행범인', 3) ('형', 3) \n",
            "('죄', 3) ('이유', 3) ('것', 3) ('행위', 3) ('추', 3) \n",
            "('보상', 3) ('선거권', 3) ('기관', 3) ('군무원', 3) ('절차', 3) \n",
            "('단체행동권', 3) ('제한', 3) ('향상', 3) ('정책', 3) ('개발', 3) \n",
            "('제외', 3) ('중', 3) ('기업체', 3) ('기간', 3) ('이내', 3) \n",
            "('재의', 3) ('확정', 3) ('지출', 3) ('정부위원', 3) ('규칙', 3) \n",
            "('심사', 3) ('찬성', 3) ('파면', 3) ('세', 3) ('임기', 3) \n",
            "('중임', 3) ('대통령령', 3) ('재정', 3) ('대외', 3) ('처리', 3) \n",
            "('회의', 3) ('평화통일', 3) ('행정기관', 3) ('사무', 3) ('선임', 3) \n",
            "('이용', 3) ('육성', 3) ('조국', 2) ('로써', 2) ('조화', 2) \n",
            "('자유민주', 2) ('문화', 2) ('영역', 2) ('승인', 2) ('활동', 2) \n",
            "('의사', 2) ('해산', 2) ('앞', 2) ('도', 2) ('처벌', 2) \n",
            "('진술', 2) ('압수', 2) ('검사', 2) ('장기', 2) ('자의', 2) \n",
            "('누구', 2) ('불이익', 2) ('주거', 2) ('종교', 2) ('결사', 2) \n",
            "('시설', 2) ('피해자', 2) ('배상', 2) ('과학기술', 2) ('복리', 2) \n"
          ]
        }
      ]
    },
    {
      "cell_type": "code",
      "source": [],
      "metadata": {
        "id": "F6KNI-lbVXea"
      },
      "execution_count": null,
      "outputs": []
    }
  ]
}